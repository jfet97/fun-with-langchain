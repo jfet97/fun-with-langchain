{
 "cells": [
  {
   "cell_type": "code",
   "execution_count": null,
   "metadata": {},
   "outputs": [
    {
     "name": "stdout",
     "output_type": "stream",
     "text": [
      "17\n"
     ]
    }
   ],
   "source": [
    "from langchain_community.document_loaders import PyPDFLoader\n",
    "\n",
    "file_path = \"./example.pdf\"\n",
    "# it sucks a bit, PDFs handling is hard, e.g. it seems we lose even symbols like euro sign\n",
    "loader = PyPDFLoader(file_path)\n",
    "\n",
    "docs = loader.load()\n",
    "\n",
    "print(len(docs))"
   ]
  },
  {
   "cell_type": "code",
   "execution_count": 3,
   "metadata": {},
   "outputs": [
    {
     "name": "stdout",
     "output_type": "stream",
     "text": [
      "INF\n",
      "0122\n",
      "DOCUMENTI INFORMATIVI \n",
      "Documenti informativi relativi al contatto per la ricezione e trasmissione di ordini, \n",
      "nonché esecuzione per conto del Cliente, collocamento e servizi accessori.  \n",
      "1. Informativa Pre-contrattuale – cliente al dettaglio – ed. ottobre 2021\n",
      "2. Informativa Privacy, ai sensi dell’art.13, del Regolamento UE n.679/2016\n",
      "(regolamento europeo in materia di protezione dei dati personali “GDPR”)\n",
      "3. Allegato Economico (Allegato 1) – costi e commissioni\n",
      "\n",
      "{'source': './example.pdf', 'page': 0}\n"
     ]
    }
   ],
   "source": [
    "print(docs[0].page_content)\n",
    "print()\n",
    "print(docs[0].metadata)"
   ]
  },
  {
   "cell_type": "markdown",
   "metadata": {},
   "source": [
    "So what just happened?\n",
    "\n",
    "1. The loader reads the PDF at the specified path into memory.\n",
    "1. It then extracts text data using the pypdf package.\n",
    "1. Finally, it creates a LangChain Document for each page of the PDF with the page's content and some metadata about where in the document the text came from"
   ]
  },
  {
   "cell_type": "markdown",
   "metadata": {},
   "source": [
    "Using a text splitter, you'll split your loaded documents into smaller documents that can more easily fit into an LLM's context window, then load them into a vector store. You can then create a retriever from the vector store for use in our RAG chain."
   ]
  },
  {
   "cell_type": "code",
   "execution_count": 30,
   "metadata": {},
   "outputs": [],
   "source": [
    "from langchain_ollama import ChatOllama\n",
    "\n",
    "# it's dumb\n",
    "# model = ChatOllama(\n",
    "#     model=\"llama3.2\",\n",
    "# )\n",
    "\n",
    "# it's slow, but smarter\n",
    "# model = ChatOllama(\n",
    "#   model=\"llama3.2-vision\"\n",
    "# )\n",
    "\n",
    "model = ChatOllama(\n",
    "  model=\"mistral-nemo\"\n",
    ")"
   ]
  },
  {
   "cell_type": "code",
   "execution_count": 36,
   "metadata": {},
   "outputs": [],
   "source": [
    "from langchain_core.vectorstores import InMemoryVectorStore\n",
    "from langchain_text_splitters import RecursiveCharacterTextSplitter\n",
    "from langchain_ollama import OllamaEmbeddings\n",
    "\n",
    "# slower but embeddings seem to be better\n",
    "local_embeddings = OllamaEmbeddings(model=\"mxbai-embed-large\")\n",
    "\n",
    "text_splitter = RecursiveCharacterTextSplitter(chunk_size=1000, chunk_overlap=100)\n",
    "splits = text_splitter.split_documents(docs)\n",
    "vectorstore = InMemoryVectorStore.from_documents(\n",
    "    documents=splits, embedding=local_embeddings\n",
    ")\n",
    "\n",
    "retriever = vectorstore.as_retriever()"
   ]
  },
  {
   "cell_type": "markdown",
   "metadata": {},
   "source": [
    "The final RAG chain:"
   ]
  },
  {
   "cell_type": "code",
   "execution_count": 37,
   "metadata": {},
   "outputs": [
    {
     "data": {
      "text/plain": [
       "{'input': 'Col profilo semplice, a quanto ammontano le commissioni di trading su EXM?',\n",
       " 'context': [Document(id='38205b46-08ab-4d76-9244-8290b8dfbf6b', metadata={'source': './example.pdf', 'page': 15}, page_content='ALL1\\n0524\\n!\\n!  \\nINFORMAZIONI SUGLI ONERI E SUI COSTI  \\n!\\nDi seguito sono riportate le commissioni e le condizioni \\neconomiche in vigore al  2 maggio 2024. Per successive \\nmodifiche si rinvia al sito www.directa.it. \\n \\nCOMMISSIONI DI TRADING SUI DIVERSI MERCATI  \\n \\nEXM (ex MTA), EGM, MIV, ETFplus, GEM  \\nProfili alternativi: \\n•!Semplice: 5! per ordine eseguito \\n•!Dinamica*: da 8 a 1,5!  \\n•!Variabile: 1,9 per mille per ordine eseguito, con un  \\nmassimo di 18! e un minimo di 1,5! (il minimo è di 5! per il \\nmercato GEM) per ordini fino a 500.000!   \\n \\nATFund  \\n•!Unico profilo disponibile : 1,9 per mille per ordine esegu ito, \\ncon un massimo di 200! e un minimo di 5! per ordini fino a \\n500.000!   \\n  \\nSEDEX e EuroTLX certificati \\ndepositario Montetitoli \\nProfili alternativi: \\n•!Semplice: 6! per ordine eseguito \\n•!Dinamica*: da 9 a 2,5!  \\n•!Variabile: 1,9 per mille per ordine eseguito, con \\nmassimo di 18! e minimo di 2! per ordini fino a 500.000!  \\ndepositario Clearstream'),\n",
       "  Document(id='4f70b357-4279-446e-82c1-ba7cc0f35b88', metadata={'source': './example.pdf', 'page': 15}, page_content=\"•!Unico profilo disponibile: 0,025% con minimo 9,5! \\n \\nMERCATI USA \\nNYSE, NASDAQ, AMEX \\n•!Via Market Maker e ECN - Unico profilo disponibile: 9$  \\nOTC \\n•!Unico profilo disponibile: 15$ \\n \\nBOND DESK - Trading Specialist \\nServizio per negoziare e partecipare al mercato primario \\ndei Bond OTC in Euro (solo per Clienti Professional) \\n•!0,1% del controvalore dell’ordine con minimo 20! \\n \\nTITOLI SOSPESI DALLE NEGOZIAZIONI: 25! a eseguito \\n \\n*CONTEGGIO Dinamica: Optando per quest a alternativa, la \\ncommissione nell'arco della stessa giornata scala di un euro dal 1° al 6° \\neseguito (partendo da 8 o 9 euro per arrivare rispettivamente a 3 o a 4, a \\nseconda del mercato o d ello strumento), resta ferma dal 6° fino  al 25° (3 o \\n4), scala ancora di un euro dal 26° al 50° (2 o 3), e scende infine al minimo \\n(1,5 o 2,5 euro rispettivamente)  dal 51° fino al termine della giornata \\nborsistica. N.B.: eventuale maggiorazione di 1 !/$ per  certi titoli su MOT,\"),\n",
       "  Document(id='f3891cfa-bfba-4564-a0fd-eaf10938ba85', metadata={'source': './example.pdf', 'page': 2}, page_content=\"mente in conflitto  con quelli del Cliente per conto del \\nquale un servizio è prestato. \\n \\nINCENTIVI \\nIn conformità a quanto previsto dalla normativa MIFID \\nII, si segnala che per quei Cli enti che apriranno un co n-\\nto con un intermediario convenzi onato, una parte delle \\ncommissioni che gli stessi pag heranno verrà da Directa \\nretrocessa all'intermediario stesso e/o alla società Ce n-\\ntrale Trading S.r.l., per un importo che potrà variare in \\nfunzione di diversi parametri, senza eccedere, in qu a-\\nlunque caso, il  limite massimo del 28% della c ommis-\\nsione. \\nNel caso in cui il cliente effettui operazioni di compr a-\\nvendita su strumenti finanziari emessi da Banche o altri \\nSoggetti Autorizzati sulle quali, per o gni esecuzione, \\nDirecta riceve una commissione da parte dell’Emittente, \\nsarà cura di Directa informare il Cliente stesso in app o-\\nsita sezione del sito di trading sul controvalore dei \\ncompensi percepiti. Ad ogni cliente verranno inoltre\"),\n",
       "  Document(id='5dfe5f44-6917-4c1e-bd68-d41e05350ff1', metadata={'source': './example.pdf', 'page': 10}, page_content=\"dettaglio all e singole voci) tutti i costi applicati da Di-\\nrecta, sia in termini monetari sia in termini percentuali, \\nponendoli in relazione alla giacenza media sul conto per \\npoterne comprendere l’impatto effettivo sul rendimento \\nconseguito.  \\n \\nCOMMISSIONI DI TRADING SUI DIVERSI MERCATI \\nDirecta propone tre diversi tipi d i commissione: sempli-\\nce, variabile, dinamica. La commissione semplice, pre-\\nvista su tutti i mercati sui quali opera D irecta, è \\nconveniente quando si immettono ordini di grande enti-\\ntà, ma in n umero limitato nell'arco della giornata. La \\ncommissione variabile è conveniente per gli ordini di \\nmodesta entità. La commissione dinamica è convenien-\\nte per ordini di discr eto ammontare e molto numerosi. \\nÈ applicabile sui mercati italiani e su quelli, a nche este-\\nri, dei futures. Per il dettaglio delle commissioni vigenti \\nsi rimanda al sito www.directa.it. \\n \\nREGIME FISCALE DAL 01/07/2014 \\nLa tassazione sulle rendite finanziarie è regolata dal\")],\n",
       " 'answer': 'Le commissioni per il profilo semplice su EXM sono pari a 5€ per ordine eseguito.'}"
      ]
     },
     "execution_count": 37,
     "metadata": {},
     "output_type": "execute_result"
    }
   ],
   "source": [
    "from langchain.chains import create_retrieval_chain\n",
    "from langchain.chains.combine_documents import create_stuff_documents_chain\n",
    "from langchain_core.prompts import ChatPromptTemplate\n",
    "\n",
    "system_prompt = (\n",
    "    \"You are an assistant for question-answering tasks. \"\n",
    "    \"Use the following pieces of retrieved context to answer \"\n",
    "    \"the question. If you don't know the answer, say that you \"\n",
    "    \"don't know. Use three sentences maximum and keep the \"\n",
    "    \"answer concise.\"\n",
    "    \"\\n\\n\"\n",
    "    \"{context}\"\n",
    ")\n",
    "\n",
    "prompt = ChatPromptTemplate.from_messages(\n",
    "    [\n",
    "        (\"system\", system_prompt),\n",
    "        (\"human\", \"{input}\"),\n",
    "    ]\n",
    ")\n",
    "\n",
    "\n",
    "question_answer_chain = create_stuff_documents_chain(model, prompt)\n",
    "rag_chain = create_retrieval_chain(retriever, question_answer_chain)\n",
    "\n",
    "results = rag_chain.invoke({\"input\": \"Col profilo semplice, a quanto ammontano le commissioni di trading su EXM?\"})\n",
    "\n",
    "results"
   ]
  },
  {
   "cell_type": "code",
   "execution_count": 39,
   "metadata": {},
   "outputs": [
    {
     "name": "stdout",
     "output_type": "stream",
     "text": [
      "{'source': './example.pdf', 'page': 15}\n"
     ]
    }
   ],
   "source": [
    "print(results[\"context\"][0].metadata)"
   ]
  },
  {
   "cell_type": "code",
   "execution_count": 40,
   "metadata": {},
   "outputs": [
    {
     "data": {
      "text/plain": [
       "{'input': 'In media quanto mi costa una operazione fuori mercato?',\n",
       " 'context': [Document(id='af578985-ed48-47fc-86d0-f2ea15693f87', metadata={'source': './example.pdf', 'page': 16}, page_content=\"•! operazioni fuori mercato con controparte interna a directa       \\n       50!  \\n•! operazioni fuori mercato con controparte esterna a directa:  \\n    - trade tra 0-!1 mln                          9 bps, minimo 50! \\n    - trade tra !1 mln – !3 mln               7 bps, minimo 50! \\n    - trade tra !3 mln – !5 mln               5 bps, minimo 50!               \\n•!girata azionaria su titoli cartacei                                 80! \\n \\nSERVIZI DI ALERT VIA SMS, SMS TELEGRAM, EMAIL \\n \\nCon i servizi SMS all'eseguito, SMS a login, SMS Alert e e-mail \\nAlert tieni il tuo conto sotto controllo. Puoi ricever e notifiche \\nper ogni eseguito, per l’accesso al conto e, tramite gli Alert, \\nsu soglie di prezzo da te impostate su titoli di tuo interesse. \\n•! Directa Alert                                      100 crediti - 10!  \\n•! SMS al login   0,10! cad. con addebito a fine mese \\n•! SMS all'eseguito  0,10! cad. con addebito a fine mese  \\n•! SMS OTP            0,10! cad. con addebito a fine mese\"),\n",
       "  Document(id='988e829a-ded3-429e-a1c2-f4f0e6c54815', metadata={'source': './example.pdf', 'page': 6}, page_content='venti profittevole è remota. \\n2.2) La vendita di un\\'opzione \\nLa vendita di un\\'opzione comporta in generale l\\'assun-\\nzione di un rischio molto più elevato di quello relativo al \\nsuo acquisto. Infatti, anche se il premio ricevuto per \\nl\\'opzione venduta è fisso, le perdite che possono pr o-\\ndursi in capo a l ve nditore dell\\'opzione sono potenzia l-\\nmente illimitate. Se il prezzo di mercato dell\\'attività \\nsottostante si mu ove in modo sfavorevole, il venditore \\ndell\\'opzione sarà obbligato ad adeguare i margini di ga-\\nranzia al fine di ma ntenere la posizione assunta , anche \\nse il livello di strike non dovesse essere raggiunto . Se \\nl\\'opzione venduta è di tipo \"americano\", il venditore \\npotrà essere in qualsiasi momento chiamato a r egolare \\nl\\'operazione in denaro o ad acquistare o consegnare \\nl\\'attività sottostante. Nel caso l \\'opzione venduta abbia \\nper oggetto contratti futures, il venditore assumerà una \\nposizione in futures e le connesse obbligazioni conce r-'),\n",
       "  Document(id='77d8c614-3ca8-4b16-8d64-5a657d9e98ee', metadata={'source': './example.pdf', 'page': 7}, page_content='mentati. Trattandosi di un\\'opzione, il portatore del tit olo \\nha la facoltà, ma non l\\'obbligo, di c oncludere l\\'acquisto \\no la vendita. In relazione alla natura del diritto si distin-\\nguono i covered warrant di ti po call (diritto ad acquista-\\nre) e quelli di tipo put (d iritto a vendere). Il diritto \\nattribuito dal covered warrant ha un costo, ra ppresenta-\\nto da una somma di denaro, detta \"premio\", che l\\'acqui-\\nrente paga al venditore. Il premio, quindi, è il prezzo del \\nwarrant. Il bene oggetto del diritto è chi amato attività \\nsottostante e generalmente consiste in azioni quotate, \\nindici di borsa, panieri di titoli e  valute. Vengono anche  \\nutilizzati titoli di stato, ta ssi di interesse, materie prime, \\nmetalli preziosi, eccetera. La quot azione corrente \\ndell\\'attività sottostante rilevata sui mercati di neg ozia-\\nzione è detta \"prezzo spot\". Il num ero di covered war-\\nrant nece ssari per acquisire il  diritto ad ac quistare o'),\n",
       "  Document(id='3bac0b77-ce28-4270-8b61-ad695f66c46e', metadata={'source': './example.pdf', 'page': 11}, page_content=\"Cliente di optare per una d i esse (fornendo quindi istru-\\nzioni specifiche) oppure di selezionare  la sede di nego-\\nziazione di default, individuata periodicamente da \\nDirecta sulla base dei fattori indicati dalla normativa. \\nDirecta SIM SpA pone in essere tutte le misure al fine di \\nottenere il miglior risultato possibile per i propri clienti al \\nmomento dell’esecuzione dell’ordine. \\nLa SIM non garantisce e non può garantire che l’ordine \\nsia sempre eseguito al  miglior prezzo poic hé \\nl’esecuzione dipende da diversi fattori tra i quali:  \\n \\n• il numero dei mercati e/o degli intermediari coinvolti \\n• il tempo necessario per l’esecuzione dell’ordine  \\n• la liquidità del mercato in quel momento \\n• altre variabili su cui Directa non ha influenza \\n \\nL'unica altra forma di discrezionalità è quella che p o-\\ntrebbe rendersi necessaria nel caso che un blocco te cni-\\nco prolungato impedisse l'inoltro tempestivo dell'ordine, \\nper la via normale, alla destinazione indicat a dal Clien-\")],\n",
       " 'answer': 'Una operazione fuori mercato con controparte interna a diretta ha un costo di 50!; per le operazioni con controparte esterna, il costo dipende dalla quantità di titoli scambiati: tra 0 e !1 mln costa 9 bps con minimo 50!, tra !1 mln e !3 mln costa 7 bps con minimo 50!, e tra !3 mln e !5 mln costa 5 bps con minimo 50!.'}"
      ]
     },
     "execution_count": 40,
     "metadata": {},
     "output_type": "execute_result"
    }
   ],
   "source": [
    "rag_chain.invoke({\"input\": \"In media quanto mi costa una operazione fuori mercato?\"})"
   ]
  }
 ],
 "metadata": {
  "kernelspec": {
   "display_name": "Python 3",
   "language": "python",
   "name": "python3"
  },
  "language_info": {
   "codemirror_mode": {
    "name": "ipython",
    "version": 3
   },
   "file_extension": ".py",
   "mimetype": "text/x-python",
   "name": "python",
   "nbconvert_exporter": "python",
   "pygments_lexer": "ipython3",
   "version": "3.13.0"
  }
 },
 "nbformat": 4,
 "nbformat_minor": 2
}
