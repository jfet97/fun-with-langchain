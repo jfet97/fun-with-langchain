{
 "cells": [
  {
   "cell_type": "markdown",
   "metadata": {},
   "source": [
    "## Asymmetric Semantic Search\n",
    "\n",
    "For asymmetric semantic search, you usually have a short query (like a question or some keywords) and you want to find a longer paragraph answering the query. `sentence-transformers/msmarco-distilbert-base-v4` seems to be good for this task. Meh."
   ]
  },
  {
   "cell_type": "code",
   "execution_count": null,
   "metadata": {},
   "outputs": [
    {
     "name": "stdout",
     "output_type": "stream",
     "text": [
      "17\n"
     ]
    }
   ],
   "source": [
    "from langchain_community.document_loaders import PyPDFLoader\n",
    "\n",
    "file_path = \"./example.pdf\"\n",
    "loader = PyPDFLoader(file_path )\n",
    "docs = loader.load()\n",
    "\n",
    "print(len(docs))"
   ]
  },
  {
   "cell_type": "code",
   "execution_count": 12,
   "metadata": {},
   "outputs": [],
   "source": [
    "from sentence_transformers import SentenceTransformer\n",
    "from langchain_core.vectorstores import InMemoryVectorStore\n",
    "from langchain_text_splitters import RecursiveCharacterTextSplitter\n",
    "from langchain_huggingface import HuggingFaceEmbeddings\n",
    "\n",
    "embeddings = HuggingFaceEmbeddings(model_name=\"sentence-transformers/msmarco-distilbert-base-v4\")\n",
    "\n",
    "\n",
    "text_splitter = RecursiveCharacterTextSplitter(chunk_size=600, chunk_overlap=100)\n",
    "splits = text_splitter.split_documents(docs)\n",
    "\n",
    "vectorstore = InMemoryVectorStore.from_documents(\n",
    "    documents=splits, embedding=embeddings\n",
    ")"
   ]
  },
  {
   "cell_type": "code",
   "execution_count": 5,
   "metadata": {},
   "outputs": [],
   "source": [
    "retriever = vectorstore.as_retriever()"
   ]
  },
  {
   "cell_type": "code",
   "execution_count": 7,
   "metadata": {},
   "outputs": [
    {
     "data": {
      "text/plain": [
       "{'input': 'Col profilo semplice, a quanto ammontano le commissioni di trading su EXM?',\n",
       " 'context': [Document(id='f6372a6e-6329-4a4a-87c2-12f952db2384', metadata={'source': './example.pdf', 'page': 15}, page_content='ALL1\\n0524\\n!\\n!  \\nINFORMAZIONI SUGLI ONERI E SUI COSTI  \\n!\\nDi seguito sono riportate le commissioni e le condizioni \\neconomiche in vigore al  2 maggio 2024. Per successive \\nmodifiche si rinvia al sito www.directa.it. \\n \\nCOMMISSIONI DI TRADING SUI DIVERSI MERCATI  \\n \\nEXM (ex MTA), EGM, MIV, ETFplus, GEM  \\nProfili alternativi: \\n•!Semplice: 5! per ordine eseguito \\n•!Dinamica*: da 8 a 1,5!  \\n•!Variabile: 1,9 per mille per ordine eseguito, con un  \\nmassimo di 18! e un minimo di 1,5! (il minimo è di 5! per il \\nmercato GEM) per ordini fino a 500.000!   \\n \\nATFund'),\n",
       "  Document(id='e01b7ea7-7fcc-4170-8640-7221b4f64201', metadata={'source': './example.pdf', 'page': 2}, page_content=\"quale un servizio è prestato. \\n \\nINCENTIVI \\nIn conformità a quanto previsto dalla normativa MIFID \\nII, si segnala che per quei Cli enti che apriranno un co n-\\nto con un intermediario convenzi onato, una parte delle \\ncommissioni che gli stessi pag heranno verrà da Directa \\nretrocessa all'intermediario stesso e/o alla società Ce n-\\ntrale Trading S.r.l., per un importo che potrà variare in \\nfunzione di diversi parametri, senza eccedere, in qu a-\\nlunque caso, il  limite massimo del 28% della c ommis-\\nsione. \\nNel caso in cui il cliente effettui operazioni di compr a-\"),\n",
       "  Document(id='9c6ae101-6103-4fb7-8374-af2c51e593e9', metadata={'source': './example.pdf', 'page': 10}, page_content=\"poterne comprendere l’impatto effettivo sul rendimento \\nconseguito.  \\n \\nCOMMISSIONI DI TRADING SUI DIVERSI MERCATI \\nDirecta propone tre diversi tipi d i commissione: sempli-\\nce, variabile, dinamica. La commissione semplice, pre-\\nvista su tutti i mercati sui quali opera D irecta, è \\nconveniente quando si immettono ordini di grande enti-\\ntà, ma in n umero limitato nell'arco della giornata. La \\ncommissione variabile è conveniente per gli ordini di \\nmodesta entità. La commissione dinamica è convenien-\\nte per ordini di discr eto ammontare e molto numerosi.\"),\n",
       "  Document(id='e59c2f83-7d96-44db-84c9-495ce1a04091', metadata={'source': './example.pdf', 'page': 7}, page_content=\"tare la strategia di trading prescelta.  \\n \\n5) I covered warrant \\nI covered warrant è un titolo che incorpora una opzione \\nper acquistare o vende re un certo b ene in una data fu-\\ntura predeterminata. È generalmente emesso da banche \\no imprese di invest imento e quotato su mercati regola-\\nmentati. Trattandosi di un'opzione, il portatore del tit olo \\nha la facoltà, ma non l'obbligo, di c oncludere l'acquisto \\no la vendita. In relazione alla natura del diritto si distin-\\nguono i covered warrant di ti po call (diritto ad acquista-\\nre) e quelli di tipo put (d iritto a vendere). Il diritto\")],\n",
       " 'answer': 'Le commissioni di trading su EXM con il profilo semplice sono del 5%.'}"
      ]
     },
     "execution_count": 7,
     "metadata": {},
     "output_type": "execute_result"
    }
   ],
   "source": [
    "from langchain.chains import create_retrieval_chain\n",
    "from langchain.chains.combine_documents import create_stuff_documents_chain\n",
    "from langchain_core.prompts import ChatPromptTemplate\n",
    "from langchain_ollama import ChatOllama\n",
    "\n",
    "model = ChatOllama(\n",
    "  model=\"mistral-nemo\"\n",
    ")\n",
    "\n",
    "system_prompt = (\n",
    "    \"You are an assistant for question-answering tasks. \"\n",
    "    \"Use the following pieces of retrieved context to answer \"\n",
    "    \"the question. If you don't know the answer, say that you \"\n",
    "    \"don't know. Use three sentences maximum and keep the \"\n",
    "    \"answer concise.\"\n",
    "    \"\\n\\n\"\n",
    "    \"{context}\"\n",
    ")\n",
    "\n",
    "prompt = ChatPromptTemplate.from_messages(\n",
    "    [\n",
    "        (\"system\", system_prompt),\n",
    "        (\"human\", \"{input}\"),\n",
    "    ]\n",
    ")\n",
    "\n",
    "\n",
    "question_answer_chain = create_stuff_documents_chain(model, prompt)\n",
    "rag_chain = create_retrieval_chain(retriever, question_answer_chain)\n",
    "\n",
    "results = rag_chain.invoke({\"input\": \"Col profilo semplice, a quanto ammontano le commissioni di trading su EXM?\"})\n",
    "\n",
    "results"
   ]
  },
  {
   "cell_type": "code",
   "execution_count": null,
   "metadata": {},
   "outputs": [
    {
     "name": "stdout",
     "output_type": "stream",
     "text": [
      "{'source': './example.pdf', 'page': 15}\n"
     ]
    }
   ],
   "source": [
    "print(results[\"context\"][0].metadata) # it's page + 1 actually"
   ]
  },
  {
   "cell_type": "code",
   "execution_count": 10,
   "metadata": {},
   "outputs": [
    {
     "data": {
      "text/plain": [
       "{'input': 'Quanto costa una operazioni fuori mercato con controparte esterna a directa?',\n",
       " 'context': [Document(id='e01b7ea7-7fcc-4170-8640-7221b4f64201', metadata={'source': './example.pdf', 'page': 2}, page_content=\"quale un servizio è prestato. \\n \\nINCENTIVI \\nIn conformità a quanto previsto dalla normativa MIFID \\nII, si segnala che per quei Cli enti che apriranno un co n-\\nto con un intermediario convenzi onato, una parte delle \\ncommissioni che gli stessi pag heranno verrà da Directa \\nretrocessa all'intermediario stesso e/o alla società Ce n-\\ntrale Trading S.r.l., per un importo che potrà variare in \\nfunzione di diversi parametri, senza eccedere, in qu a-\\nlunque caso, il  limite massimo del 28% della c ommis-\\nsione. \\nNel caso in cui il cliente effettui operazioni di compr a-\"),\n",
       "  Document(id='543a85aa-f5eb-4a92-ab30-792a5c6126e1', metadata={'source': './example.pdf', 'page': 7}, page_content='denza spot che si rinnova giorno per giorno . Pertanto, \\nad ogni chiu sura di giornata  il contratto può prevedere \\nun accred ito o un addebito del cosiddett o “swap”, che \\nvaria in funzione del segno dell’operazione e dello stru-\\nmento sottostante , e rappresenta l e componenti di \\nmantenimento a scadenza descritte sopra. Prima di ef-\\nfettuare l’investimento è quindi necessa rio accertarsi di \\nquale sia il costo giornal iero da sostenere per mantene-\\nre la posizione aperta e valutare quindi di poter affron-\\ntare la strategia di trading prescelta.  \\n \\n5) I covered warrant'),\n",
       "  Document(id='8a53854e-3d32-43cc-b442-e9eed89631ca', metadata={'source': './example.pdf', 'page': 11}, page_content='Directa sulla base dei fattori indicati dalla normativa. \\nDirecta SIM SpA pone in essere tutte le misure al fine di \\nottenere il miglior risultato possibile per i propri clienti al \\nmomento dell’esecuzione dell’ordine. \\nLa SIM non garantisce e non può garantire che l’ordine \\nsia sempre eseguito al  miglior prezzo poic hé \\nl’esecuzione dipende da diversi fattori tra i quali:  \\n \\n• il numero dei mercati e/o degli intermediari coinvolti \\n• il tempo necessario per l’esecuzione dell’ordine  \\n• la liquidità del mercato in quel momento \\n• altre variabili su cui Directa non ha influenza'),\n",
       "  Document(id='9c6ae101-6103-4fb7-8374-af2c51e593e9', metadata={'source': './example.pdf', 'page': 10}, page_content=\"poterne comprendere l’impatto effettivo sul rendimento \\nconseguito.  \\n \\nCOMMISSIONI DI TRADING SUI DIVERSI MERCATI \\nDirecta propone tre diversi tipi d i commissione: sempli-\\nce, variabile, dinamica. La commissione semplice, pre-\\nvista su tutti i mercati sui quali opera D irecta, è \\nconveniente quando si immettono ordini di grande enti-\\ntà, ma in n umero limitato nell'arco della giornata. La \\ncommissione variabile è conveniente per gli ordini di \\nmodesta entità. La commissione dinamica è convenien-\\nte per ordini di discr eto ammontare e molto numerosi.\")],\n",
       " 'answer': \"Il costo di un'operazione fuori mercato con controparte esterna su Directa non viene specificato nel testo fornito.\"}"
      ]
     },
     "execution_count": 10,
     "metadata": {},
     "output_type": "execute_result"
    }
   ],
   "source": [
    "rag_chain.invoke({\"input\": \"Quanto costa una operazioni fuori mercato con controparte esterna a directa?\"})"
   ]
  }
 ],
 "metadata": {
  "kernelspec": {
   "display_name": "base",
   "language": "python",
   "name": "python3"
  },
  "language_info": {
   "codemirror_mode": {
    "name": "ipython",
    "version": 3
   },
   "file_extension": ".py",
   "mimetype": "text/x-python",
   "name": "python",
   "nbconvert_exporter": "python",
   "pygments_lexer": "ipython3",
   "version": "3.12.7"
  }
 },
 "nbformat": 4,
 "nbformat_minor": 2
}
