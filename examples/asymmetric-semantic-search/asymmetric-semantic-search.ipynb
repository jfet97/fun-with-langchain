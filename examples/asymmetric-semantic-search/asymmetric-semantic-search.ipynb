{
 "cells": [
  {
   "cell_type": "markdown",
   "metadata": {},
   "source": [
    "## Asymmetric Semantic Search\n",
    "\n",
    "For asymmetric semantic search, you usually have a short query (like a question or some keywords) and you want to find a longer paragraph answering the query."
   ]
  },
  {
   "cell_type": "markdown",
   "metadata": {},
   "source": [
    "### Achtung\n",
    "\n",
    "The language is important, some models focus on english, others need to be told which language to use. The one I used here is multilingual. It's slower but seems good."
   ]
  },
  {
   "cell_type": "code",
   "execution_count": 18,
   "metadata": {},
   "outputs": [
    {
     "name": "stdout",
     "output_type": "stream",
     "text": [
      "17\n"
     ]
    }
   ],
   "source": [
    "from langchain_community.document_loaders import PyPDFLoader\n",
    "\n",
    "file_path = \"./example.pdf\"\n",
    "loader = PyPDFLoader(file_path )\n",
    "docs = loader.load()\n",
    "\n",
    "print(len(docs))"
   ]
  },
  {
   "cell_type": "code",
   "execution_count": 74,
   "metadata": {},
   "outputs": [],
   "source": [
    "from sentence_transformers import SentenceTransformer\n",
    "from langchain_core.vectorstores import InMemoryVectorStore\n",
    "from langchain_text_splitters import RecursiveCharacterTextSplitter\n",
    "from langchain_huggingface import HuggingFaceEmbeddings\n",
    "\n",
    "embeddings = HuggingFaceEmbeddings(model_name=\"sentence-transformers/distiluse-base-multilingual-cased-v2\")\n",
    "\n",
    "\n",
    "text_splitter = RecursiveCharacterTextSplitter(chunk_size=800, chunk_overlap=200)\n",
    "splits = text_splitter.split_documents(docs)\n",
    "\n",
    "vectorstore = InMemoryVectorStore.from_documents(\n",
    "    documents=splits, embedding=embeddings\n",
    ")"
   ]
  },
  {
   "cell_type": "code",
   "execution_count": 75,
   "metadata": {},
   "outputs": [],
   "source": [
    "retriever = vectorstore.as_retriever(\n",
    "    search_kwargs={\"k\": 1},\n",
    ")"
   ]
  },
  {
   "cell_type": "code",
   "execution_count": 76,
   "metadata": {},
   "outputs": [
    {
     "data": {
      "text/plain": [
       "{'input': 'Ho il profilo semplice. Quali sono le commissioni di trading su EXM?',\n",
       " 'context': [Document(id='fdb9b549-b772-4d53-9545-bcf6d0458816', metadata={'source': './example.pdf', 'page': 15}, page_content='ALL1\\n0524\\n!\\n!  \\nINFORMAZIONI SUGLI ONERI E SUI COSTI  \\n!\\nDi seguito sono riportate le commissioni e le condizioni \\neconomiche in vigore al  2 maggio 2024. Per successive \\nmodifiche si rinvia al sito www.directa.it. \\n \\nCOMMISSIONI DI TRADING SUI DIVERSI MERCATI  \\n \\nEXM (ex MTA), EGM, MIV, ETFplus, GEM  \\nProfili alternativi: \\n•!Semplice: 5! per ordine eseguito \\n•!Dinamica*: da 8 a 1,5!  \\n•!Variabile: 1,9 per mille per ordine eseguito, con un  \\nmassimo di 18! e un minimo di 1,5! (il minimo è di 5! per il \\nmercato GEM) per ordini fino a 500.000!   \\n \\nATFund  \\n•!Unico profilo disponibile : 1,9 per mille per ordine esegu ito, \\ncon un massimo di 200! e un minimo di 5! per ordini fino a \\n500.000!   \\n  \\nSEDEX e EuroTLX certificati \\ndepositario Montetitoli \\nProfili alternativi:')],\n",
       " 'answer': 'Il profilo semplice prevede una commissione fissa di 5€ per ogni ordine eseguito sul mercato EXM.'}"
      ]
     },
     "execution_count": 76,
     "metadata": {},
     "output_type": "execute_result"
    }
   ],
   "source": [
    "from langchain.chains import create_retrieval_chain\n",
    "from langchain.chains.combine_documents import create_stuff_documents_chain\n",
    "from langchain_core.prompts import ChatPromptTemplate\n",
    "from langchain_ollama import ChatOllama\n",
    "\n",
    "model = ChatOllama(\n",
    "  model=\"mistral-nemo\"\n",
    ")\n",
    "\n",
    "system_prompt = (\n",
    "    \"You are an assistant for question-answering tasks. \"\n",
    "    \"Use the following pieces of retrieved context to answer \"\n",
    "    \"the question. If you don't know the answer, say that you \"\n",
    "    \"don't know. Use three sentences maximum and keep the \"\n",
    "    \"answer concise.\"\n",
    "    \"\\n\\n\"\n",
    "    \"{context}\"\n",
    ")\n",
    "\n",
    "prompt = ChatPromptTemplate.from_messages(\n",
    "    [\n",
    "        (\"system\", system_prompt),\n",
    "        (\"human\", \"{input}\"),\n",
    "    ]\n",
    ")\n",
    "\n",
    "\n",
    "question_answer_chain = create_stuff_documents_chain(model, prompt)\n",
    "rag_chain = create_retrieval_chain(retriever, question_answer_chain)\n",
    "\n",
    "results = rag_chain.invoke({\"input\": \"Ho il profilo semplice. Quali sono le commissioni di trading su EXM?\"})\n",
    "\n",
    "results"
   ]
  },
  {
   "cell_type": "code",
   "execution_count": 66,
   "metadata": {},
   "outputs": [
    {
     "name": "stdout",
     "output_type": "stream",
     "text": [
      "{'source': './example.pdf', 'page': 15}\n"
     ]
    }
   ],
   "source": [
    "print(results[\"context\"][0].metadata) # it's page + 1 actually"
   ]
  },
  {
   "cell_type": "code",
   "execution_count": 78,
   "metadata": {},
   "outputs": [
    {
     "data": {
      "text/plain": [
       "{'input': 'Costi delle operazioni fuori mercato?',\n",
       " 'context': [Document(id='cfa69cda-b09f-463b-833d-0570e4da7d00', metadata={'source': './example.pdf', 'page': 16}, page_content=\"•! operazioni fuori mercato con controparte interna a directa       \\n       50!  \\n•! operazioni fuori mercato con controparte esterna a directa:  \\n    - trade tra 0-!1 mln                          9 bps, minimo 50! \\n    - trade tra !1 mln – !3 mln               7 bps, minimo 50! \\n    - trade tra !3 mln – !5 mln               5 bps, minimo 50!               \\n•!girata azionaria su titoli cartacei                                 80! \\n \\nSERVIZI DI ALERT VIA SMS, SMS TELEGRAM, EMAIL \\n \\nCon i servizi SMS all'eseguito, SMS a login, SMS Alert e e-mail \\nAlert tieni il tuo conto sotto controllo. Puoi ricever e notifiche \\nper ogni eseguito, per l’accesso al conto e, tramite gli Alert, \\nsu soglie di prezzo da te impostate su titoli di tuo interesse.\")],\n",
       " 'answer': \"Le operazioni fuori mercato con controparte interna hanno un costo del 50! (senza spread). Per la controparte esterna, i costi variano in base all'ammontare della transazione: tra 0 e !1 mln il costo è di 9 bps minimo 50!, tra !1 mln e !3 mln è di 7 bps minimo 50! e tra !3 mln e !5 mln il costo è di 5 bps minimo 50!.\"}"
      ]
     },
     "execution_count": 78,
     "metadata": {},
     "output_type": "execute_result"
    }
   ],
   "source": [
    "rag_chain.invoke({\"input\": \"Costi delle operazioni fuori mercato?\"})"
   ]
  }
 ],
 "metadata": {
  "kernelspec": {
   "display_name": "base",
   "language": "python",
   "name": "python3"
  },
  "language_info": {
   "codemirror_mode": {
    "name": "ipython",
    "version": 3
   },
   "file_extension": ".py",
   "mimetype": "text/x-python",
   "name": "python",
   "nbconvert_exporter": "python",
   "pygments_lexer": "ipython3",
   "version": "3.12.7"
  }
 },
 "nbformat": 4,
 "nbformat_minor": 2
}
