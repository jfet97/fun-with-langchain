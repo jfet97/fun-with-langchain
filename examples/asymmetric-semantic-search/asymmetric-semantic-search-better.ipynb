{
 "cells": [
  {
   "cell_type": "markdown",
   "metadata": {},
   "source": [
    "## Asymmetric Semantic Search\n",
    "\n",
    "For asymmetric semantic search, you usually have a short query (like a question or some keywords) and you want to find a longer paragraph answering the query."
   ]
  },
  {
   "cell_type": "markdown",
   "metadata": {},
   "source": [
    "### Achtung\n",
    "\n",
    "The language is important, some models focus on english, others need to be told which language to use. The one I used here is multilingual. It's slower but seems good."
   ]
  },
  {
   "cell_type": "code",
   "execution_count": 1,
   "metadata": {},
   "outputs": [],
   "source": [
    "import fitz # requires pymupdf\n",
    "from tqdm.auto import tqdm # for progress bars, requires tqdm\n",
    "import re\n",
    "\n",
    "pdf_path = \"./example.pdf\"\n",
    "\n",
    "def text_formatter(text: str) -> str:\n",
    "    \"\"\"Performs minor formatting on text.\"\"\"\n",
    "    cleaned_text = text.replace(\"\\n\", \" \")\n",
    "    cleaned_text = re.sub(r' ! ', '', cleaned_text)\n",
    "    cleaned_text = re.sub(r'-\\s+', '', cleaned_text)\n",
    "    cleaned_text = re.sub(r'\\s\\s+', ' ', cleaned_text)\n",
    "    cleaned_text = re.sub(r'(\\d)!', r'\\1€', cleaned_text)\n",
    "\n",
    "    # note: this might be different for each doc (best to experiment)\n",
    "    return cleaned_text\n",
    "\n",
    "# Open PDF and get lines/pages\n",
    "# Note: this only focuses on text\n",
    "def open_and_read_pdf(pdf_path: str) -> list[dict]:\n",
    "    \"\"\"\n",
    "    Opens a PDF file, reads its text content page by page, and collects statistics.\n",
    "\n",
    "    Parameters:\n",
    "        pdf_path (str): The file path to the PDF document to be opened and read.\n",
    "\n",
    "    Returns:\n",
    "        list[dict]: A list of dictionaries, each containing the page number\n",
    "        (adjusted), character count, word count, sentence count, token count, and the extracted text\n",
    "        for each page.\n",
    "    \"\"\"\n",
    "    doc = fitz.open(pdf_path)  # open a document\n",
    "    pages_and_texts = []\n",
    "    for page_number, page in tqdm(enumerate(doc)):  # iterate the document pages\n",
    "        text = page.get_text()  # get plain text encoded as UTF-8\n",
    "        text = text_formatter(text)\n",
    "        pages_and_texts.append({\n",
    "            \"page_number\": page_number + 1,\n",
    "            \"page_char_count\": len(text),\n",
    "            \"page_word_count\": len(text.split(\" \")),\n",
    "            \"page_sentence_count_raw\": len(text.split(\". \")),\n",
    "            \"page_token_count\": len(text) / 4,  # 1 token = ~4 chars\n",
    "            \"text\": text\n",
    "        })\n",
    "\n",
    "    return pages_and_texts\n"
   ]
  },
  {
   "cell_type": "code",
   "execution_count": 2,
   "metadata": {},
   "outputs": [
    {
     "data": {
      "application/vnd.jupyter.widget-view+json": {
       "model_id": "8941a6673f9b4003b014348a880bf7d8",
       "version_major": 2,
       "version_minor": 0
      },
      "text/plain": [
       "0it [00:00, ?it/s]"
      ]
     },
     "metadata": {},
     "output_type": "display_data"
    },
    {
     "data": {
      "text/plain": [
       "[{'page_number': 1,\n",
       "  'page_char_count': 472,\n",
       "  'page_word_count': 67,\n",
       "  'page_sentence_count_raw': 6,\n",
       "  'page_token_count': 118.0,\n",
       "  'text': 'INF 0122 DOCUMENTI INFORMATIVI Documenti informativi relativi al contatto per la ricezione e trasmissione di ordini, nonché esecuzione per conto del Cliente, collocamento e servizi accessori. 1. Informativa Pre-contrattuale – cliente al dettaglio – ed. ottobre 2021 2. Informativa Privacy, ai sensi dell’art.13, del Regolamento UE n.679/2016 (regolamento europeo in materia di protezione dei dati personali “GDPR”) 3. Allegato Economico (Allegato 1) – costi e commissioni '},\n",
       " {'page_number': 2,\n",
       "  'page_char_count': 3910,\n",
       "  'page_word_count': 550,\n",
       "  'page_sentence_count_raw': 18,\n",
       "  'page_token_count': 977.5,\n",
       "  'text': \"1/12 PRE 0124 Directa Società di intermediazione Mobiliare per Azioni Iscritta all’albo delle SIM al n° 59 Codice fiscale e partita iva e iscrizione al registro delle imprese n° 06837440012 Sede legale: Via Bruno Buozzi n° 5 – 10121 Torino Telefono: +39 011.530101 – fax: +39 011.530532 E.mail: directa@directa.it PEC: directasim@legalmail.it Capitale sociale Euro 7.500.000 interamente versato Aderente al Fondo Nazionale di Garanzia Contratto di: CONTRATTO PER LA RICEZIONE E TRASMISSIONE DI ORDINI, NONCHÉ ESECUZIONE PER CONTO DEL CLIENTE, COLLOCAMENTO E SERVIZI ACCESSORI INFORMATIVA PRE-CONTRATTUALE Cliente al dettaglio Edizione Ottobre 2021 Sezione A Informazioni su Directa e i suoi servizi Pag 1 Sezione B Informazioni concernenti la salvaguardia degli investimenti finanziari e delle somme di denaro della clientela Pag 3 Sezione C Informazioni sugli strumenti finanziari Pag 3 Sezione D Informazioni sugli oneri e sui costi Pag 10 Sezione E Informazioni per l'esecuzione e la trasmissione degli ordini alle condizioni più favorevoli per il Cliente Pag 11 Sezione F Modalità e tempi di trattazione dei reclami Pag 12 Sezione G Risoluzione stragiudiziale di controversie Pag 12 Sezione H Informazioni concernenti i termini del contratto Pag 12 Sezione I Classificazione della clientela Pag 12 SEZIONE A INFORMAZIONI SU DIRECTA E I SUOI SERVIZI RAGIONE SOCIALE, INDIRIZZO E RECAPITI DELL'INTERMEDIARIO Directa Società di Intermediazione Mobiliare per Azioni. Iscritta al n° 59 dell'albo delle SIM di cui all'articolo 20 del d.lgs. 24 febbraio 1998 n. 58 con delibera n. 11761 del 22/12/1998 e successive modifiche ed integrazioni. Codice fiscale e partita iva e iscrizione al Registro delle Imprese di Torino n.° 06837440012 Sede legale: Via Bruno Buozzi n° 5 10121 Torino Telefono: +39 011.53.01.01 (uffici amministrativi) +39 011.088.41.41 (servizio clienti) Fax: +39 011.53.05.32 E-mail: directa@directa.it PEC: directasim@legalmail.it LE LINGUE NELLE QUALI È POSSIBILE COMUNICARE Italiano inglese I METODI DI COMUNICAZIONE UTILIZZABILI CON L'INTERMEDIARIO ANCHE RELATIVI ALL'INVIO E ALLA RICEZIONE DEGLI ORDINI L'invio di lettere, le eventuali notifiche e qualunque altra dichiarazione o comunicazione, compresi l'invio e la ricezione degli ordini, saranno normalmente effettuati per via telematica. Sono inoltre considerate comunicazioni per iscritto le trasmissioni via fax, tramite PEC (Posta Elettronica Certificata) e posta elettronica ordinaria, anche non firmate digitalmente. Directa si riserva la facoltà di verificare l’effettiva riferibilità del messaggio al Cliente. Per l'invio delle comunicazioni in via telematica verrà utilizzato il conto del Cliente attraverso il sito di trading Directa. Per l'invio della corrispondenza verrà utilizzato l'indirizzo di residenza indicato nel contratto, salvo che venga specificato nello stesso un differente indirizzo di domiciliazione. È compito del Cliente informare Directa di eventuali cambiamenti nelle proprie informazioni di contatto, tramite l’apposita sezione del sito di trading delle Variazioni Contrattuali. AUTORIZZAZIONE A OPERARE E RECAPITO AUTORITÀ COMPETENTE CHE HA RILASCIATO L’AUTORIZZAZIONE La società può svolgere i servizi di investimento più avanti precisati, in virtù delle seguenti autorizzazioni rilasciate dalla CONSOB: -autorizzazione rilasciata il 22 dicembre 1998 con delibera n. 11761, che rinnova l'autorizzazione già concessa con precedente delibera n. 9225 del 17 maggio 1995 relativa al servizio di ricezione e trasmissione ordini; -autorizzazione rilasciata il 14 marzo 2000 con delibera n. 12438 relativa al servizio di collocamento con o senza preventiva assunzione di garanzia. -autorizzazione rilasciata il 5 febbraio 2002 con delibera n. 13438 relativa al servizio di negoziazione per conto terzi. Ulteriori informazioni sull'autorità competente potranno essere rilevate tramite la consultazione del sito \"},\n",
       " {'page_number': 3,\n",
       "  'page_char_count': 7265,\n",
       "  'page_word_count': 1051,\n",
       "  'page_sentence_count_raw': 25,\n",
       "  'page_token_count': 1816.25,\n",
       "  'text': \"2/12 www.consob.it e/o richieste a CONSOB, 00198 Roma Via G.B. Martini 3, tel. +390684771 fax +39068417707. Directa è altresì soggetta alla vigilanza della Banca d'Italia, reperibile al seguente recapito: 00184 Roma, Via Nazionale 91, Tel.: +3906 47921www.bancaditalia.it DESCRIZIONE SINTETICA SULLA TUTELA DEGLI STRUMENTI FINANZIARI O DELLE SOMME DI DENARO CHE DIRECTA DETIENE PER CONTO DEL CLIENTE Come previsto dalla normativa vigente e dalle successive modifiche ed integrazioni, gli strumenti finanziari del Cliente detenuti da Directa costituiscono patrimonio distinto a tutti gli effetti da quello di Directa stessa e da quello degli altri Clienti; su di esso non sono ammesse azioni dei creditori di Directa o nell'interesse degli stessi, né quelle dei creditori dell'eventuale depositario o subdepositario o nell'interesse degli stessi. Le azioni dei creditori dei singoli Clienti sono ammesse nei limiti del patrimonio di proprietà di questi ultimi. Per i conti relativi a strumenti finanziari che siano depositati presso terzi non operano la compensazione legale e giudiziale e non può essere pattuita la compensazione convenzionale rispetto ai crediti vantati dal depositario o dal subdepositario nei confronti dell'intermediario o del depositario. I conti di Directa accesi presso terzi, relativamente agli strumenti finanziari di pertinenza dei Clienti, sono sottorubricati con espressa indicazione che si tratta di beni di terzi. Periodicamente vengono spuntate e riconciliate le evidenze dei depositari con quelle interne di Directa. SISTEMA DI INDENNIZZO DEGLI INVESTITORI O DI GARANZIA DEI DEPOSITI, CON DESCRIZIONE DEI SISTEMI DI COPERTURA Directa aderisce al Fondo Nazionale di Garanzia, che prevede l'indennizzo dei Clienti, entro certi limiti di importo, per i crediti rappresentati da strumenti finanziari e/o da denaro connesso con operazioni di investimento nei confronti di intermediari aderenti al Fondo. Tale indennizzo è subordinato: 1nel caso di liquidazione coatta amministrativa, all'emissione del decreto che la dispone; 2nel caso di fallimento, all'emissione della sentenza dichiarativa di fallimento; 3nel caso di concordato preventivo, alla sentenza di omologazione del concordato. Il Fondo interviene ad indennizzare i Clienti per i crediti chirografari o derivanti dalla mancata restituzione integrale del denaro e degli strumenti finanziari, o del loro controvalore, che siano stati riconosciuti in via definitiva dagli organi della procedura concorsuale. L'indennizzo è calcolato sulla base dell'importo accertato in tale sede, al netto di eventuali riparti parziali effettuati dagli organi della procedura concorsuale. Nella garanzia offerta dal Fondo Nazionale di Garanzia sono compresi i seguenti servizi di investimento: a) negoziazione per conto proprio/esecuzioni di ordini per conto dei Clienti; b) collocamento con o senza preventiva sottoscrizione o acquisto a fermo, ovvero assunzione di garanzia nei confronti dell'emittente; c) gestione di portafoglio; d) ricezione e trasmissione di ordini, nonché mediazione; e) servizio di custodia e amministrazione di strumenti finanziari, in quanto accessorio ad operazioni di investimento. Le modalità di presentazione di istanze di indennizzo, i limiti dell'importo richiedibile e ogni altra informazione sono riportati nel Regolamento del Fondo Nazionale di Garanzia (www.fondonazionaledigaranzia.it). IDENTIFICAZIONE DEI CONFLITTI DI INTERESSE E POLITICA DI GESTIONE Directa adotta ai sensi della vigente normativa ogni misura ragionevole per identificare i conflitti di interesse che potrebbero insorgere, con i Clienti o tra i Clienti, al momento della prestazione di qualunque servizio, principale o accessorio. Ove le misure adottate non siano sufficienti per evitare con ragionevole certezza il rischio di nuocere agli interessi dei Clienti, prima di agire per loro conto Directa li informa chiaramente, per iscritto o su Internet, ed eventualmente fornendo specifica documentazione, della natura e delle fonti dei conflitti, così da metterli in grado di assumere le loro decisioni in piena consapevolezza. Directa provvede a: -individuare, in relazione ai servizi e alle attività di investimento e ai servizi accessori prestati, le circostanze che generano o potrebbero generare un conflitto di interesse idoneo a danneggiare in modo significativo gli interessi di uno o più Clienti; -definire le procedure da seguire e le misure da adottare per gestire tali conflitti. Ai fini dell'identificazione dei conflitti di interesse, Directa deve considerare se, a seguito della prestazione di servizi, essa stessa, un soggetto rilevante o un soggetto a questi ultimi legato da un rapporto di controllo, diretto o indiretto: a) possano realizzare un guadagno finanziario o evitare una perdita finanziaria, a danno del Cliente; b) siano portatori di un interesse nel risultato del servizio prestato al Cliente, distinto da quello del Cliente medesimo; c) abbiano un incentivo a privilegiare gli interessi di Clienti diversi da quello a cui il servizio è prestato; d) svolgano la medesima attività del Cliente; e) ricevano o possano ricevere da persona diversa dal Cliente, in relazione con il servizio a questi prestato, un incentivo, sotto forma di denaro, beni o servizi, diverso dalle commissioni o dalle competenze normalmente percepite per tale servizio. La politica di gestione dei conflitti adottata da Directa è tesa a garantire che i soggetti rilevanti svolgano le attività che implicano un conflitto di interesse con un grado di indipendenza appropriato, tenuto conto delle dimensioni e dell'attività svolta. Al fine di garantire l'indipendenza prevista in materia dalla normativa di settore, Directa adotta, laddove appropriato, misure e procedure volte a: a) impedire o controllare lo scambio di informazioni tra i soggetti rilevanti coinvolti in attività che comportano un rischio di conflitto di interesse, quando lo scambio di tali informazioni possa ledere gli interessi di uno o più Clienti; b) garantire la vigilanza separata dei soggetti rilevanti le cui principali funzioni coinvolgono interessi potenzialmente in conflitto con quelli del Cliente per conto del quale un servizio è prestato. INCENTIVI In conformità a quanto previsto dalla normativa MIFID II, si segnala che per quei Clienti che apriranno un conto con un intermediario convenzionato, una parte delle commissioni che gli stessi pagheranno verrà da Directa retrocessa all'intermediario stesso e/o alla società Centrale Trading S.r.l., per un importo che potrà variare in funzione di diversi parametri, senza eccedere, in qualunque caso, il limite massimo del 28% della commissione. Nel caso in cui il cliente effettui operazioni di compravendita su strumenti finanziari emessi da Banche o altri Soggetti Autorizzati sulle quali, per ogni esecuzione, Directa riceve una commissione da parte dell’Emittente, sarà cura di Directa informare il Cliente stesso in apposita sezione del sito di trading sul controvalore dei compensi percepiti. Ad ogni cliente verranno inoltre forniti, dietro semplice richiesta, maggiori dettagli informativi. MODALITÀ DI PAGAMENTO E DI ESECUZIONE I fondi in entrata possono provenire esclusivamente da conti bancari intestati al Cliente. I fondi in uscita sono \"}]"
      ]
     },
     "execution_count": 2,
     "metadata": {},
     "output_type": "execute_result"
    }
   ],
   "source": [
    "pages_and_texts = open_and_read_pdf(pdf_path=pdf_path)\n",
    "pages_and_texts[:3]"
   ]
  },
  {
   "cell_type": "code",
   "execution_count": 3,
   "metadata": {},
   "outputs": [
    {
     "data": {
      "text/html": [
       "<div>\n",
       "<style scoped>\n",
       "    .dataframe tbody tr th:only-of-type {\n",
       "        vertical-align: middle;\n",
       "    }\n",
       "\n",
       "    .dataframe tbody tr th {\n",
       "        vertical-align: top;\n",
       "    }\n",
       "\n",
       "    .dataframe thead th {\n",
       "        text-align: right;\n",
       "    }\n",
       "</style>\n",
       "<table border=\"1\" class=\"dataframe\">\n",
       "  <thead>\n",
       "    <tr style=\"text-align: right;\">\n",
       "      <th></th>\n",
       "      <th>page_number</th>\n",
       "      <th>page_char_count</th>\n",
       "      <th>page_word_count</th>\n",
       "      <th>page_sentence_count_raw</th>\n",
       "      <th>page_token_count</th>\n",
       "      <th>text</th>\n",
       "    </tr>\n",
       "  </thead>\n",
       "  <tbody>\n",
       "    <tr>\n",
       "      <th>0</th>\n",
       "      <td>1</td>\n",
       "      <td>472</td>\n",
       "      <td>67</td>\n",
       "      <td>6</td>\n",
       "      <td>118.00</td>\n",
       "      <td>INF 0122 DOCUMENTI INFORMATIVI Documenti infor...</td>\n",
       "    </tr>\n",
       "    <tr>\n",
       "      <th>1</th>\n",
       "      <td>2</td>\n",
       "      <td>3910</td>\n",
       "      <td>550</td>\n",
       "      <td>18</td>\n",
       "      <td>977.50</td>\n",
       "      <td>1/12 PRE 0124 Directa Società di intermediazio...</td>\n",
       "    </tr>\n",
       "    <tr>\n",
       "      <th>2</th>\n",
       "      <td>3</td>\n",
       "      <td>7265</td>\n",
       "      <td>1051</td>\n",
       "      <td>25</td>\n",
       "      <td>1816.25</td>\n",
       "      <td>2/12 www.consob.it e/o richieste a CONSOB, 001...</td>\n",
       "    </tr>\n",
       "    <tr>\n",
       "      <th>3</th>\n",
       "      <td>4</td>\n",
       "      <td>6761</td>\n",
       "      <td>954</td>\n",
       "      <td>26</td>\n",
       "      <td>1690.25</td>\n",
       "      <td>3/12 prelevati su richiesta del Cliente dirett...</td>\n",
       "    </tr>\n",
       "    <tr>\n",
       "      <th>4</th>\n",
       "      <td>5</td>\n",
       "      <td>7676</td>\n",
       "      <td>1119</td>\n",
       "      <td>30</td>\n",
       "      <td>1919.00</td>\n",
       "      <td>4/12 schio. A rendimenti potenziali maggiori, ...</td>\n",
       "    </tr>\n",
       "  </tbody>\n",
       "</table>\n",
       "</div>"
      ],
      "text/plain": [
       "   page_number  page_char_count  page_word_count  page_sentence_count_raw  \\\n",
       "0            1              472               67                        6   \n",
       "1            2             3910              550                       18   \n",
       "2            3             7265             1051                       25   \n",
       "3            4             6761              954                       26   \n",
       "4            5             7676             1119                       30   \n",
       "\n",
       "   page_token_count                                               text  \n",
       "0            118.00  INF 0122 DOCUMENTI INFORMATIVI Documenti infor...  \n",
       "1            977.50  1/12 PRE 0124 Directa Società di intermediazio...  \n",
       "2           1816.25  2/12 www.consob.it e/o richieste a CONSOB, 001...  \n",
       "3           1690.25  3/12 prelevati su richiesta del Cliente dirett...  \n",
       "4           1919.00  4/12 schio. A rendimenti potenziali maggiori, ...  "
      ]
     },
     "execution_count": 3,
     "metadata": {},
     "output_type": "execute_result"
    }
   ],
   "source": [
    "import pandas as pd\n",
    "\n",
    "df = pd.DataFrame(pages_and_texts)\n",
    "df.head()"
   ]
  },
  {
   "cell_type": "code",
   "execution_count": 4,
   "metadata": {},
   "outputs": [
    {
     "data": {
      "application/vnd.jupyter.widget-view+json": {
       "model_id": "dc5f5e44493a481fa64cbe2b240f823e",
       "version_major": 2,
       "version_minor": 0
      },
      "text/plain": [
       "  0%|          | 0/17 [00:00<?, ?it/s]"
      ]
     },
     "metadata": {},
     "output_type": "display_data"
    }
   ],
   "source": [
    "from spacy.lang.it import Italian\n",
    "\n",
    "nlp = Italian()\n",
    "\n",
    "# Add a sentencizer pipeline, see https://spacy.io/api/sentencizer/\n",
    "nlp.add_pipe(\"sentencizer\")\n",
    "\n",
    "for item in tqdm(pages_and_texts):\n",
    "    item[\"sentences\"] = list(nlp(item[\"text\"]).sents)\n",
    "\n",
    "    # Make sure all sentences are strings (by default they are Spans)\n",
    "    item[\"sentences\"] = [str(sentence) for sentence in item[\"sentences\"]]\n",
    "\n",
    "    # Count the sentences\n",
    "    item[\"page_sentence_count_spacy\"] = len(item[\"sentences\"])\n"
   ]
  },
  {
   "cell_type": "code",
   "execution_count": 5,
   "metadata": {},
   "outputs": [
    {
     "data": {
      "text/html": [
       "<div>\n",
       "<style scoped>\n",
       "    .dataframe tbody tr th:only-of-type {\n",
       "        vertical-align: middle;\n",
       "    }\n",
       "\n",
       "    .dataframe tbody tr th {\n",
       "        vertical-align: top;\n",
       "    }\n",
       "\n",
       "    .dataframe thead th {\n",
       "        text-align: right;\n",
       "    }\n",
       "</style>\n",
       "<table border=\"1\" class=\"dataframe\">\n",
       "  <thead>\n",
       "    <tr style=\"text-align: right;\">\n",
       "      <th></th>\n",
       "      <th>page_number</th>\n",
       "      <th>page_char_count</th>\n",
       "      <th>page_word_count</th>\n",
       "      <th>page_sentence_count_raw</th>\n",
       "      <th>page_token_count</th>\n",
       "      <th>page_sentence_count_spacy</th>\n",
       "    </tr>\n",
       "  </thead>\n",
       "  <tbody>\n",
       "    <tr>\n",
       "      <th>count</th>\n",
       "      <td>17.00</td>\n",
       "      <td>17.00</td>\n",
       "      <td>17.00</td>\n",
       "      <td>17.00</td>\n",
       "      <td>17.00</td>\n",
       "      <td>17.00</td>\n",
       "    </tr>\n",
       "    <tr>\n",
       "      <th>mean</th>\n",
       "      <td>9.00</td>\n",
       "      <td>5686.06</td>\n",
       "      <td>819.29</td>\n",
       "      <td>24.71</td>\n",
       "      <td>1421.51</td>\n",
       "      <td>25.71</td>\n",
       "    </tr>\n",
       "    <tr>\n",
       "      <th>std</th>\n",
       "      <td>5.05</td>\n",
       "      <td>1947.77</td>\n",
       "      <td>279.84</td>\n",
       "      <td>10.18</td>\n",
       "      <td>486.94</td>\n",
       "      <td>10.19</td>\n",
       "    </tr>\n",
       "    <tr>\n",
       "      <th>min</th>\n",
       "      <td>1.00</td>\n",
       "      <td>472.00</td>\n",
       "      <td>67.00</td>\n",
       "      <td>6.00</td>\n",
       "      <td>118.00</td>\n",
       "      <td>6.00</td>\n",
       "    </tr>\n",
       "    <tr>\n",
       "      <th>25%</th>\n",
       "      <td>5.00</td>\n",
       "      <td>4670.00</td>\n",
       "      <td>715.00</td>\n",
       "      <td>18.00</td>\n",
       "      <td>1167.50</td>\n",
       "      <td>19.00</td>\n",
       "    </tr>\n",
       "    <tr>\n",
       "      <th>50%</th>\n",
       "      <td>9.00</td>\n",
       "      <td>6549.00</td>\n",
       "      <td>941.00</td>\n",
       "      <td>25.00</td>\n",
       "      <td>1637.25</td>\n",
       "      <td>26.00</td>\n",
       "    </tr>\n",
       "    <tr>\n",
       "      <th>75%</th>\n",
       "      <td>13.00</td>\n",
       "      <td>7255.00</td>\n",
       "      <td>1039.00</td>\n",
       "      <td>36.00</td>\n",
       "      <td>1813.75</td>\n",
       "      <td>31.00</td>\n",
       "    </tr>\n",
       "    <tr>\n",
       "      <th>max</th>\n",
       "      <td>17.00</td>\n",
       "      <td>7806.00</td>\n",
       "      <td>1119.00</td>\n",
       "      <td>39.00</td>\n",
       "      <td>1951.50</td>\n",
       "      <td>47.00</td>\n",
       "    </tr>\n",
       "  </tbody>\n",
       "</table>\n",
       "</div>"
      ],
      "text/plain": [
       "       page_number  page_char_count  page_word_count  page_sentence_count_raw  \\\n",
       "count        17.00            17.00            17.00                    17.00   \n",
       "mean          9.00          5686.06           819.29                    24.71   \n",
       "std           5.05          1947.77           279.84                    10.18   \n",
       "min           1.00           472.00            67.00                     6.00   \n",
       "25%           5.00          4670.00           715.00                    18.00   \n",
       "50%           9.00          6549.00           941.00                    25.00   \n",
       "75%          13.00          7255.00          1039.00                    36.00   \n",
       "max          17.00          7806.00          1119.00                    39.00   \n",
       "\n",
       "       page_token_count  page_sentence_count_spacy  \n",
       "count             17.00                      17.00  \n",
       "mean            1421.51                      25.71  \n",
       "std              486.94                      10.19  \n",
       "min              118.00                       6.00  \n",
       "25%             1167.50                      19.00  \n",
       "50%             1637.25                      26.00  \n",
       "75%             1813.75                      31.00  \n",
       "max             1951.50                      47.00  "
      ]
     },
     "execution_count": 5,
     "metadata": {},
     "output_type": "execute_result"
    }
   ],
   "source": [
    "df = pd.DataFrame(pages_and_texts)\n",
    "df.describe().round(2)"
   ]
  },
  {
   "cell_type": "code",
   "execution_count": 6,
   "metadata": {},
   "outputs": [
    {
     "data": {
      "application/vnd.jupyter.widget-view+json": {
       "model_id": "6306d7a313fa438886def950e4eac174",
       "version_major": 2,
       "version_minor": 0
      },
      "text/plain": [
       "  0%|          | 0/17 [00:00<?, ?it/s]"
      ]
     },
     "metadata": {},
     "output_type": "display_data"
    }
   ],
   "source": [
    "num_sentence_chunk_size = 5\n",
    "\n",
    "# Create a function that recursively splits a list into desired sizes\n",
    "def split_list(input_list: list,\n",
    "               slice_size: int) -> list[list[str]]:\n",
    "    \"\"\"\n",
    "    Splits the input_list into sublists of size slice_size (or as close as possible).\n",
    "\n",
    "    For example, a list of 17 sentences would be split into two lists of [[10], [7]]\n",
    "    \"\"\"\n",
    "    # No overlap here, but could be useful to add at least one sentence of overlap\n",
    "    return [input_list[i:i + slice_size] for i in range(0, len(input_list), slice_size)]\n",
    "\n",
    "# Loop through pages and texts and split sentences into chunks\n",
    "for item in tqdm(pages_and_texts):\n",
    "    item[\"sentence_chunks\"] = split_list(input_list=item[\"sentences\"],\n",
    "                                         slice_size=num_sentence_chunk_size)\n",
    "    item[\"num_chunks\"] = len(item[\"sentence_chunks\"])"
   ]
  },
  {
   "cell_type": "code",
   "execution_count": 7,
   "metadata": {},
   "outputs": [
    {
     "data": {
      "text/html": [
       "<div>\n",
       "<style scoped>\n",
       "    .dataframe tbody tr th:only-of-type {\n",
       "        vertical-align: middle;\n",
       "    }\n",
       "\n",
       "    .dataframe tbody tr th {\n",
       "        vertical-align: top;\n",
       "    }\n",
       "\n",
       "    .dataframe thead th {\n",
       "        text-align: right;\n",
       "    }\n",
       "</style>\n",
       "<table border=\"1\" class=\"dataframe\">\n",
       "  <thead>\n",
       "    <tr style=\"text-align: right;\">\n",
       "      <th></th>\n",
       "      <th>page_number</th>\n",
       "      <th>page_char_count</th>\n",
       "      <th>page_word_count</th>\n",
       "      <th>page_sentence_count_raw</th>\n",
       "      <th>page_token_count</th>\n",
       "      <th>page_sentence_count_spacy</th>\n",
       "      <th>num_chunks</th>\n",
       "    </tr>\n",
       "  </thead>\n",
       "  <tbody>\n",
       "    <tr>\n",
       "      <th>count</th>\n",
       "      <td>17.00</td>\n",
       "      <td>17.00</td>\n",
       "      <td>17.00</td>\n",
       "      <td>17.00</td>\n",
       "      <td>17.00</td>\n",
       "      <td>17.00</td>\n",
       "      <td>17.00</td>\n",
       "    </tr>\n",
       "    <tr>\n",
       "      <th>mean</th>\n",
       "      <td>9.00</td>\n",
       "      <td>5686.06</td>\n",
       "      <td>819.29</td>\n",
       "      <td>24.71</td>\n",
       "      <td>1421.51</td>\n",
       "      <td>25.71</td>\n",
       "      <td>5.71</td>\n",
       "    </tr>\n",
       "    <tr>\n",
       "      <th>std</th>\n",
       "      <td>5.05</td>\n",
       "      <td>1947.77</td>\n",
       "      <td>279.84</td>\n",
       "      <td>10.18</td>\n",
       "      <td>486.94</td>\n",
       "      <td>10.19</td>\n",
       "      <td>2.08</td>\n",
       "    </tr>\n",
       "    <tr>\n",
       "      <th>min</th>\n",
       "      <td>1.00</td>\n",
       "      <td>472.00</td>\n",
       "      <td>67.00</td>\n",
       "      <td>6.00</td>\n",
       "      <td>118.00</td>\n",
       "      <td>6.00</td>\n",
       "      <td>2.00</td>\n",
       "    </tr>\n",
       "    <tr>\n",
       "      <th>25%</th>\n",
       "      <td>5.00</td>\n",
       "      <td>4670.00</td>\n",
       "      <td>715.00</td>\n",
       "      <td>18.00</td>\n",
       "      <td>1167.50</td>\n",
       "      <td>19.00</td>\n",
       "      <td>4.00</td>\n",
       "    </tr>\n",
       "    <tr>\n",
       "      <th>50%</th>\n",
       "      <td>9.00</td>\n",
       "      <td>6549.00</td>\n",
       "      <td>941.00</td>\n",
       "      <td>25.00</td>\n",
       "      <td>1637.25</td>\n",
       "      <td>26.00</td>\n",
       "      <td>6.00</td>\n",
       "    </tr>\n",
       "    <tr>\n",
       "      <th>75%</th>\n",
       "      <td>13.00</td>\n",
       "      <td>7255.00</td>\n",
       "      <td>1039.00</td>\n",
       "      <td>36.00</td>\n",
       "      <td>1813.75</td>\n",
       "      <td>31.00</td>\n",
       "      <td>7.00</td>\n",
       "    </tr>\n",
       "    <tr>\n",
       "      <th>max</th>\n",
       "      <td>17.00</td>\n",
       "      <td>7806.00</td>\n",
       "      <td>1119.00</td>\n",
       "      <td>39.00</td>\n",
       "      <td>1951.50</td>\n",
       "      <td>47.00</td>\n",
       "      <td>10.00</td>\n",
       "    </tr>\n",
       "  </tbody>\n",
       "</table>\n",
       "</div>"
      ],
      "text/plain": [
       "       page_number  page_char_count  page_word_count  page_sentence_count_raw  \\\n",
       "count        17.00            17.00            17.00                    17.00   \n",
       "mean          9.00          5686.06           819.29                    24.71   \n",
       "std           5.05          1947.77           279.84                    10.18   \n",
       "min           1.00           472.00            67.00                     6.00   \n",
       "25%           5.00          4670.00           715.00                    18.00   \n",
       "50%           9.00          6549.00           941.00                    25.00   \n",
       "75%          13.00          7255.00          1039.00                    36.00   \n",
       "max          17.00          7806.00          1119.00                    39.00   \n",
       "\n",
       "       page_token_count  page_sentence_count_spacy  num_chunks  \n",
       "count             17.00                      17.00       17.00  \n",
       "mean            1421.51                      25.71        5.71  \n",
       "std              486.94                      10.19        2.08  \n",
       "min              118.00                       6.00        2.00  \n",
       "25%             1167.50                      19.00        4.00  \n",
       "50%             1637.25                      26.00        6.00  \n",
       "75%             1813.75                      31.00        7.00  \n",
       "max             1951.50                      47.00       10.00  "
      ]
     },
     "execution_count": 7,
     "metadata": {},
     "output_type": "execute_result"
    }
   ],
   "source": [
    "df = pd.DataFrame(pages_and_texts)\n",
    "df.describe().round(2)"
   ]
  },
  {
   "cell_type": "code",
   "execution_count": 8,
   "metadata": {},
   "outputs": [
    {
     "data": {
      "application/vnd.jupyter.widget-view+json": {
       "model_id": "f34f93d09dfc42b2a0188506f02ba3fe",
       "version_major": 2,
       "version_minor": 0
      },
      "text/plain": [
       "  0%|          | 0/17 [00:00<?, ?it/s]"
      ]
     },
     "metadata": {},
     "output_type": "display_data"
    },
    {
     "data": {
      "text/plain": [
       "97"
      ]
     },
     "execution_count": 8,
     "metadata": {},
     "output_type": "execute_result"
    }
   ],
   "source": [
    "import re\n",
    "\n",
    "# Split each chunk into its own item\n",
    "pages_and_chunks = []\n",
    "for item in tqdm(pages_and_texts):\n",
    "    for sentence_chunk in item[\"sentence_chunks\"]:\n",
    "        chunk_dict = {}\n",
    "        chunk_dict[\"page_number\"] = item[\"page_number\"]\n",
    "\n",
    "        # Join the sentences together into a paragraph-like structure, aka a chunk (so they are a single string)\n",
    "        joined_sentence_chunk = \"\".join(sentence_chunk).replace(\"  \", \" \").strip()\n",
    "        joined_sentence_chunk = re.sub(r'\\.([A-Z])', r'. \\1', joined_sentence_chunk) # \".A\" -> \". A\" for any full-stop/capital letter combo\n",
    "        chunk_dict[\"sentence_chunk\"] = joined_sentence_chunk\n",
    "\n",
    "        # Get stats about the chunk\n",
    "        chunk_dict[\"chunk_char_count\"] = len(joined_sentence_chunk)\n",
    "        chunk_dict[\"chunk_word_count\"] = len([word for word in joined_sentence_chunk.split(\" \")])\n",
    "        chunk_dict[\"chunk_token_count\"] = len(joined_sentence_chunk) / 4 # 1 token = ~4 characters\n",
    "\n",
    "        pages_and_chunks.append(chunk_dict)\n",
    "\n",
    "# How many chunks do we have?\n",
    "len(pages_and_chunks)"
   ]
  },
  {
   "cell_type": "code",
   "execution_count": 9,
   "metadata": {},
   "outputs": [
    {
     "data": {
      "text/plain": [
       "[{'page_number': 8,\n",
       "  'sentence_chunk': \"Prima di effettuare l’investimento è quindi necessario accertarsi di quale sia il costo giornaliero da sostenere per mantenere la posizione aperta e valutare quindi di poter affrontare la strategia di trading prescelta.5) I covered warrant I covered warrant è un titolo che incorpora una opzione per acquistare o vendere un certo bene in una data futura predeterminata.È generalmente emesso da banche o imprese di investimento e quotato su mercati regolamentati. Trattandosi di un'opzione, il portatore del titolo ha la facoltà, ma non l'obbligo, di concludere l'acquisto o la vendita. In relazione alla natura del diritto si distinguono i covered warrant di tipo call (diritto ad acquistare) e quelli di tipo put (diritto a vendere).\",\n",
       "  'chunk_char_count': 734,\n",
       "  'chunk_word_count': 114,\n",
       "  'chunk_token_count': 183.5},\n",
       " {'page_number': 13,\n",
       "  'sentence_chunk': \"SEZIONE H INFORMAZIONI CONCERNENTI I TERMINI DEL CONTRATTO Per i termini del contratto si rimanda a quanto esposto all'interno del contratto medesimo e dei suoi allegati. SEZIONE I CLASSIFICAZIONE DELLA CLIENTELA In base alle norme di legge e al regolamento pro tempore vigenti, si considerano Clienti le persone fisiche o giuridiche per conto o in favore delle quali Directa effettua attività di investimento e/o presta servizi accessori. Directa, sulla base delle informazioni disponibili, provvede a comunicare al Cliente la classificazione assegnatagli. Le categorie all’interno delle quali può essere classificata la Clientela, sono le seguenti: Cliente al dettaglio. La classificazione nell’ambito di tale categoria comporta l’applicazione, nei confronti del cliente dell’intera disciplina in materia di servizi di investimento, con particolare riguardo alle regole di comportamento e, in generale, alle norme poste a tutela degli investitori.\",\n",
       "  'chunk_char_count': 949,\n",
       "  'chunk_word_count': 134,\n",
       "  'chunk_token_count': 237.25},\n",
       " {'page_number': 14,\n",
       "  'sentence_chunk': 'Il conferimento dei dati personali necessari a tali finalità non è obbligatorio, ma il rifiuto a fornirli comporta l’impossibilità di eseguire quanto richiesto; b)!adempiere a prescrizioni dettate da normative nazionali e comunitarie (quali, ad esempio, identificazione dell’interessato ai fini antiriciclaggio effettuata attraverso il sistema di Infocert, accertamenti fiscali e tributari, prestazione di servizi di investimento) nonché a disposizioni impartite da Organi di Vigilanza e Controllo. Il conferimento dei dati personali per tali finalità è obbligatorio; c)!inviare comunicazioni informative anche riguardanti prodotti e servizi del Titolare. Il conferimento dei dati non è obbligatorio e l’Interessato può decidere in qualsiasi momento di non ricevere queste comunicazioni optando per la relativa cancellazione (ad esempio, “opt out” in calce alla e-mail).',\n",
       "  'chunk_char_count': 870,\n",
       "  'chunk_word_count': 117,\n",
       "  'chunk_token_count': 217.5}]"
      ]
     },
     "execution_count": 9,
     "metadata": {},
     "output_type": "execute_result"
    }
   ],
   "source": [
    "import random\n",
    "random.sample(pages_and_chunks, k=3)"
   ]
  },
  {
   "cell_type": "code",
   "execution_count": 10,
   "metadata": {},
   "outputs": [
    {
     "data": {
      "text/html": [
       "<div>\n",
       "<style scoped>\n",
       "    .dataframe tbody tr th:only-of-type {\n",
       "        vertical-align: middle;\n",
       "    }\n",
       "\n",
       "    .dataframe tbody tr th {\n",
       "        vertical-align: top;\n",
       "    }\n",
       "\n",
       "    .dataframe thead th {\n",
       "        text-align: right;\n",
       "    }\n",
       "</style>\n",
       "<table border=\"1\" class=\"dataframe\">\n",
       "  <thead>\n",
       "    <tr style=\"text-align: right;\">\n",
       "      <th></th>\n",
       "      <th>page_number</th>\n",
       "      <th>chunk_char_count</th>\n",
       "      <th>chunk_word_count</th>\n",
       "      <th>chunk_token_count</th>\n",
       "    </tr>\n",
       "  </thead>\n",
       "  <tbody>\n",
       "    <tr>\n",
       "      <th>count</th>\n",
       "      <td>97.00</td>\n",
       "      <td>97.00</td>\n",
       "      <td>97.00</td>\n",
       "      <td>97.00</td>\n",
       "    </tr>\n",
       "    <tr>\n",
       "      <th>mean</th>\n",
       "      <td>9.45</td>\n",
       "      <td>994.67</td>\n",
       "      <td>142.56</td>\n",
       "      <td>248.67</td>\n",
       "    </tr>\n",
       "    <tr>\n",
       "      <th>std</th>\n",
       "      <td>4.65</td>\n",
       "      <td>583.36</td>\n",
       "      <td>83.87</td>\n",
       "      <td>145.84</td>\n",
       "    </tr>\n",
       "    <tr>\n",
       "      <th>min</th>\n",
       "      <td>1.00</td>\n",
       "      <td>53.00</td>\n",
       "      <td>8.00</td>\n",
       "      <td>13.25</td>\n",
       "    </tr>\n",
       "    <tr>\n",
       "      <th>25%</th>\n",
       "      <td>6.00</td>\n",
       "      <td>550.00</td>\n",
       "      <td>81.00</td>\n",
       "      <td>137.50</td>\n",
       "    </tr>\n",
       "    <tr>\n",
       "      <th>50%</th>\n",
       "      <td>9.00</td>\n",
       "      <td>961.00</td>\n",
       "      <td>135.00</td>\n",
       "      <td>240.25</td>\n",
       "    </tr>\n",
       "    <tr>\n",
       "      <th>75%</th>\n",
       "      <td>14.00</td>\n",
       "      <td>1280.00</td>\n",
       "      <td>186.00</td>\n",
       "      <td>320.00</td>\n",
       "    </tr>\n",
       "    <tr>\n",
       "      <th>max</th>\n",
       "      <td>17.00</td>\n",
       "      <td>2735.00</td>\n",
       "      <td>404.00</td>\n",
       "      <td>683.75</td>\n",
       "    </tr>\n",
       "  </tbody>\n",
       "</table>\n",
       "</div>"
      ],
      "text/plain": [
       "       page_number  chunk_char_count  chunk_word_count  chunk_token_count\n",
       "count        97.00             97.00             97.00              97.00\n",
       "mean          9.45            994.67            142.56             248.67\n",
       "std           4.65            583.36             83.87             145.84\n",
       "min           1.00             53.00              8.00              13.25\n",
       "25%           6.00            550.00             81.00             137.50\n",
       "50%           9.00            961.00            135.00             240.25\n",
       "75%          14.00           1280.00            186.00             320.00\n",
       "max          17.00           2735.00            404.00             683.75"
      ]
     },
     "execution_count": 10,
     "metadata": {},
     "output_type": "execute_result"
    }
   ],
   "source": [
    "df = pd.DataFrame(pages_and_chunks)\n",
    "df.describe().round(2)"
   ]
  },
  {
   "cell_type": "code",
   "execution_count": 11,
   "metadata": {},
   "outputs": [
    {
     "name": "stdout",
     "output_type": "stream",
     "text": [
      "Chunk token count: 13.25 | Text: Allegato Economico (Allegato 1) – costi e commissioni\n"
     ]
    }
   ],
   "source": [
    "# Show random chunks with under 50 tokens in length\n",
    "min_token_length = 15\n",
    "for row in df[df[\"chunk_token_count\"] <= min_token_length].iterrows():\n",
    "    print(f'Chunk token count: {row[1][\"chunk_token_count\"]} | Text: {row[1][\"sentence_chunk\"]}')"
   ]
  },
  {
   "cell_type": "code",
   "execution_count": 12,
   "metadata": {},
   "outputs": [
    {
     "name": "stdout",
     "output_type": "stream",
     "text": [
      "Chunk token count: 623.5 | Text: 1/12 PRE 0124 Directa Società di intermediazione Mobiliare per Azioni Iscritta all’albo delle SIM al n° 59 Codice fiscale e partita iva e iscrizione al registro delle imprese n° 06837440012 Sede legale: Via Bruno Buozzi n° 5 – 10121 Torino Telefono: +39 011.530101 – fax: +39 011.530532 E.mail: directa@directa.it PEC: directasim@legalmail.it Capitale sociale Euro 7.500.000 interamente versato Aderente al Fondo Nazionale di Garanzia Contratto di: CONTRATTO PER LA RICEZIONE E TRASMISSIONE DI ORDINI, NONCHÉ ESECUZIONE PER CONTO DEL CLIENTE, COLLOCAMENTO E SERVIZI ACCESSORI INFORMATIVA PRE-CONTRATTUALE Cliente al dettaglio Edizione Ottobre 2021 Sezione A Informazioni su Directa e i suoi servizi Pag 1 Sezione B Informazioni concernenti la salvaguardia degli investimenti finanziari e delle somme di denaro della clientela Pag 3 Sezione C Informazioni sugli strumenti finanziari Pag 3 Sezione D Informazioni sugli oneri e sui costi Pag 10 Sezione E Informazioni per l'esecuzione e la trasmissione degli ordini alle condizioni più favorevoli per il Cliente Pag 11 Sezione F Modalità e tempi di trattazione dei reclami Pag 12 Sezione G Risoluzione stragiudiziale di controversie Pag 12 Sezione H Informazioni concernenti i termini del contratto Pag 12 Sezione I Classificazione della clientela Pag 12 SEZIONE A INFORMAZIONI SU DIRECTA E I SUOI SERVIZI RAGIONE SOCIALE, INDIRIZZO E RECAPITI DELL'INTERMEDIARIO Directa Società di Intermediazione Mobiliare per Azioni. Iscritta al n° 59 dell'albo delle SIM di cui all'articolo 20 del d.lgs.24 febbraio 1998 n. 58 con delibera n. 11761 del 22/12/1998 e successive modifiche ed integrazioni. Codice fiscale e partita iva e iscrizione al Registro delle Imprese di Torino n.° 06837440012 Sede legale: Via Bruno Buozzi n° 5 10121 Torino Telefono: +39 011.53.01.01 (uffici amministrativi) +39 011.088.41.41 (servizio clienti) Fax: +39 011.53.05.32 E-mail: directa@directa.it PEC: directasim@legalmail.it LE LINGUE NELLE QUALI È POSSIBILE COMUNICARE Italiano inglese I METODI DI COMUNICAZIONE UTILIZZABILI CON L'INTERMEDIARIO ANCHE RELATIVI ALL'INVIO E ALLA RICEZIONE DEGLI ORDINI L'invio di lettere, le eventuali notifiche e qualunque altra dichiarazione o comunicazione, compresi l'invio e la ricezione degli ordini, saranno normalmente effettuati per via telematica. Sono inoltre considerate comunicazioni per iscritto le trasmissioni via fax, tramite PEC (Posta Elettronica Certificata) e posta elettronica ordinaria, anche non firmate digitalmente.\n",
      "Chunk token count: 601.0 | Text: Directa provvede a: -individuare, in relazione ai servizi e alle attività di investimento e ai servizi accessori prestati, le circostanze che generano o potrebbero generare un conflitto di interesse idoneo a danneggiare in modo significativo gli interessi di uno o più Clienti; -definire le procedure da seguire e le misure da adottare per gestire tali conflitti. Ai fini dell'identificazione dei conflitti di interesse, Directa deve considerare se, a seguito della prestazione di servizi, essa stessa, un soggetto rilevante o un soggetto a questi ultimi legato da un rapporto di controllo, diretto o indiretto: a) possano realizzare un guadagno finanziario o evitare una perdita finanziaria, a danno del Cliente; b) siano portatori di un interesse nel risultato del servizio prestato al Cliente, distinto da quello del Cliente medesimo; c) abbiano un incentivo a privilegiare gli interessi di Clienti diversi da quello a cui il servizio è prestato; d) svolgano la medesima attività del Cliente; e) ricevano o possano ricevere da persona diversa dal Cliente, in relazione con il servizio a questi prestato, un incentivo, sotto forma di denaro, beni o servizi, diverso dalle commissioni o dalle competenze normalmente percepite per tale servizio. La politica di gestione dei conflitti adottata da Directa è tesa a garantire che i soggetti rilevanti svolgano le attività che implicano un conflitto di interesse con un grado di indipendenza appropriato, tenuto conto delle dimensioni e dell'attività svolta. Al fine di garantire l'indipendenza prevista in materia dalla normativa di settore, Directa adotta, laddove appropriato, misure e procedure volte a: a) impedire o controllare lo scambio di informazioni tra i soggetti rilevanti coinvolti in attività che comportano un rischio di conflitto di interesse, quando lo scambio di tali informazioni possa ledere gli interessi di uno o più Clienti; b) garantire la vigilanza separata dei soggetti rilevanti le cui principali funzioni coinvolgono interessi potenzialmente in conflitto con quelli del Cliente per conto del quale un servizio è prestato. INCENTIVI In conformità a quanto previsto dalla normativa MIFID II, si segnala che per quei Clienti che apriranno un conto con un intermediario convenzionato, una parte delle commissioni che gli stessi pagheranno verrà da Directa retrocessa all'intermediario stesso e/o alla società Centrale Trading S.r.l.,\n",
      "Chunk token count: 509.5 | Text: Più in particolare, si può considerare \"paese a mercati emergenti\" quello che possiede alcune delle caratteristiche di seguito elencate: -recenti (o relativamente recenti) liberalizzazioni nel settore economico, quali si possono considerare tutti i processi tendenti alla riduzione della presenza dello Stato nell'economia, come la privatizzazione di attività pubbliche o la rimozione dei controlli statali sulle negoziazioni in ambito valutario, nonché degli ostacoli all'insediamento nel paese di capitali esteri; -collocazione sotto il grado delle classificazioni di investimento nelle graduatorie elaborate dalle maggiori agenzie di rating internazionale, o precedenti recenti di rinvio o di mancato pagamento del debito pubblico; -recente liberalizzazione in ambito politico, e avvio di un'evoluzione in senso democratico del sistema politico; -non adesione all'OCSE. Si definisce quindi operatività su \"mercati emergenti\" quella avente per oggetto strumenti finanziari (e relativi prodotti derivati) emessi da enti residenti, domiciliati, o portatori di interessi notevoli in paesi che possiedano anche solo qualcuna delle su indicate caratteristiche. Il presente documento, pur non esaurendo completamente l'argomento, si propone di fornire una disamina degli aspetti più rischiosi dell'attività di investimento su mercati emergenti, legati principalmente ai fattori qui di seguito elencati.1) Assetto economico Le economie dei paesi con mercati emergenti sono caratterizzate da maggiore instabilità rispetto a quelle dei paesi più sviluppati: le conseguenze principali possono essere fluttuazioni anche notevoli dei principali parametri economici, quali ad esempio i rapporti di cambio con le altre valute, o i tassi di interesse e di inflazione. Anche l'eventuale indebitamento del paese nei confronti di altre nazioni o di organismi internazionali, così come l'assenza di adeguate infrastrutture, possono contribuire ad aumentare l'instabilità economica e, di riflesso, creare una condizione di incertezza a livello finanziario.\n",
      "Chunk token count: 683.75 | Text: Per effetto della previsione di cui all’art. 3, comma 9, del medesimo decreto, successivamente al 1° gennaio 2019 le obbligazioni senior saranno soggette al bail–in prima di tutti gli altri depositi (che saranno coinvolti sempre per la parte eccedente l’importo di100.000). Per dare attuazione alle misure di riduzione o conversione degli strumenti di capitale e alle misure di risoluzione, Banca d'Italia dispone di specifici poteri (art. 60 del d.lgs 180/2015). L’art. 60 riporta i “poteri generali di risoluzione”: a) effettuare richieste di dati e notizie e ispezioni; b) disporre il trasferimento a terzi di azioni o di altre partecipazioni emesse dall'ente sottoposto a risoluzione; c) disporre la cessione a terzi di beni e rapporti giuridici dell'ente sottoposto a risoluzione; d) ridurre o azzerare il valore nominale di azioni o di altre partecipazioni emesse dall'ente sottoposto a risoluzione, nonché annullare le azioni o i titoli; e) ridurre o azzerare il valore nominale delle passività ammissibili dell'ente sottoposto a risoluzione; f) annullare, ove necessario, i titoli di debito emessi dall'ente sottoposto a risoluzione, ad eccezione delle passività garantite; g) convertire passività ammissibili in azioni o in altre partecipazioni dell'ente sottoposto a risoluzione o di una società che lo controlla o di un ente-ponte; h) disporre che l'ente sottoposto a risoluzione o la società che lo controlla emetta nuovi strumenti di capitale; i) modificare la scadenza dei titoli di debito e delle altre passività ammissibili emessi dall'ente sottoposto a risoluzione, o modificare l'importo degli interessi maturati in relazione a questi strumenti e passività o la data a partire dalla quale gli interessi divengono esigibili, anche sospendendo i relativi pagamenti per un periodo transitorio; questo potere non si applica alle passività garantite; l) attivare clausole di close-out o disporre lo scioglimento dei contratti finanziari o dei contratti derivati di cui è parte l'ente sottoposto a risoluzione; m) disporre la rimozione o la sostituzione degli organi di amministrazione e controllo e dell'alta dirigenza dell'ente sottoposto a risoluzione; n) chiedere alla Banca Centrale di effettuare la valutazione del potenziale acquirente di una partecipazione qualificata in deroga ai termini applicabili. Si segnala in particolare il potere di modificare la scadenza dei titoli, l'importo degli interessi maturati in relazione a tali titoli o la data a partire dalla quale gli interessi divengono esigibili, anche sospendendo i relativi pagamenti per un periodo transitorio. L’intera disciplina trova applicazione anche con riguardo agli strumenti di capitale e alle passività emesse anteriormente al 1° gennaio 2016.\n",
      "Chunk token count: 683.0 | Text: Directa SIM SpA pone in essere tutte le misure al fine di ottenere il miglior risultato possibile per i propri clienti al momento dell’esecuzione dell’ordine. La SIM non garantisce e non può garantire che l’ordine sia sempre eseguito al miglior prezzo poiché l’esecuzione dipende da diversi fattori tra i quali: • il numero dei mercati e/o degli intermediari coinvolti • il tempo necessario per l’esecuzione dell’ordine • la liquidità del mercato in quel momento • altre variabili su cui Directa non ha influenza L'unica altra forma di discrezionalità è quella che potrebbe rendersi necessaria nel caso che un blocco tecnico prolungato impedisse l'inoltro tempestivo dell'ordine, per la via normale, alla destinazione indicata dal Cliente: Directa potrebbe allora utilizzare una via alternativa, abitualmente un altro intermediario negoziatore interconnesso, per raggiungere quando possibile la stessa sede di esecuzione, fornendone comunque esplicita documentazione nella nota informativa e senza costi aggiuntivi per il Cliente. In sintesi, Directa SIM SpA utilizza la seguente “strategia di esecuzione e trasmissione” degli ordini: tempestivo inoltro al mercato, al Sistema multilaterale di negoziazione (Multilateral Trading Facility) o all’intermediario definito dal cliente stesso: tranne che in caso di blocco tecnico o nella eventualità che il Cliente scelga la sede di negoziazione di default individuata da Directa, resta esclusa ogni discrezionalità di inoltro e, in ogni caso, qualsiasi internalizzazione dell’ordine. INFORMAZIONI SULLE STRATEGIE DI ESECUZIONE DIRETTA DEGLI ORDINI Directa SIM SpA trasmette direttamente ordini ai seguenti mercati e Sistemi multilaterali di negoziazione (MTF): Mercati telematici organizzati e gestiti da Borsa Italiana e Euro TLX Mercati di derivati esteri: EUREX e Chicago Mercantile Exchange Sistemi multilaterali di negoziazione (Multilateral Trading Facility): mercato After Hours, Euronext Growth Milan di Borsa Italiana, Global Equity Market (GEM) e Spectrum Markets. INFORMAZIONI SULLA TRASMISSIONE DEGLI ORDINI A DESTINATARIO DIVERSO DA UN MERCATO O DA UN SISTEMA DI SCAMBI ORGANIZZATI Per gli ordini che non possono essere inoltrati direttamente a un mercato, Directa SIM SpA si avvale dell'operato dei primari intermediari qui di seguito elencati, i quali permettono la gestione telematica degli ordini, consentendone un'esecuzione tempestiva: per il mercato organizzato e gestito da Deutsche Boerse (Xetra): Banca Intesa SanPaolo Divisione IMI per i mercati Euronext, CBOE Europe Equities e SIX Exchange: Banca Intesa SanPaolo Divisione IMI per i mercati regolamentati USA – NYSE, AMEX, NASDAQ, ECN – e per l’OTC: View Trade Securities e Intesa Sanpaolo IMI Securities Corp.\n"
     ]
    }
   ],
   "source": [
    "max_token_length = 500 # it's 512 but to be safe...\n",
    "# in fact, we have to append query: and passage: to the beginning of the text\n",
    "for row in df[df[\"chunk_token_count\"] >= max_token_length].iterrows():\n",
    "    print(f'Chunk token count: {row[1][\"chunk_token_count\"]} | Text: {row[1][\"sentence_chunk\"]}')"
   ]
  },
  {
   "cell_type": "code",
   "execution_count": 13,
   "metadata": {},
   "outputs": [
    {
     "data": {
      "application/vnd.jupyter.widget-view+json": {
       "model_id": "5e050db2eb2a41fd89b61558f489f045",
       "version_major": 2,
       "version_minor": 0
      },
      "text/plain": [
       "  0%|          | 0/97 [00:00<?, ?it/s]"
      ]
     },
     "metadata": {},
     "output_type": "display_data"
    },
    {
     "data": {
      "application/vnd.jupyter.widget-view+json": {
       "model_id": "7b0a499c2b334f4b81d3ef0706bbab3a",
       "version_major": 2,
       "version_minor": 0
      },
      "text/plain": [
       "  0%|          | 0/103 [00:00<?, ?it/s]"
      ]
     },
     "metadata": {},
     "output_type": "display_data"
    }
   ],
   "source": [
    "# slice the chunks that are too long\n",
    "def split_chunks(pages_and_chunks, max_token_length: int) -> list[str]:\n",
    "    pages_and_chunks_sliced_internal = []\n",
    "    for item in tqdm(pages_and_chunks):\n",
    "        if item[\"chunk_token_count\"] >= max_token_length - 12:\n",
    "            sentences = list(nlp(item[\"sentence_chunk\"]).sents)\n",
    "            midpoint = len(sentences) // 2\n",
    "\n",
    "            first_half = sentences[:midpoint]\n",
    "            second_half = sentences[midpoint:]\n",
    "\n",
    "            first_half_joined = \"\".join([str(sentence) for sentence in first_half]).strip()\n",
    "            second_half_joined = \"\".join([str(sentence) for sentence in second_half]).strip()\n",
    "\n",
    "            pages_and_chunks_sliced_internal.append({\n",
    "                \"page_number\": item[\"page_number\"],\n",
    "                \"sentence_chunk\": first_half_joined,\n",
    "                \"chunk_char_count\": len(first_half_joined),\n",
    "                \"chunk_word_count\": len(first_half_joined.split(\" \")),\n",
    "                \"chunk_token_count\": len(first_half_joined) / 4\n",
    "            })\n",
    "\n",
    "            pages_and_chunks_sliced_internal.append({\n",
    "                \"page_number\": item[\"page_number\"],\n",
    "                \"sentence_chunk\": second_half_joined,\n",
    "                \"chunk_char_count\": len(second_half_joined),\n",
    "                \"chunk_word_count\": len(second_half_joined.split(\" \")),\n",
    "                \"chunk_token_count\": len(second_half_joined) / 4\n",
    "            })\n",
    "\n",
    "        else: pages_and_chunks_sliced_internal.append(item)\n",
    "    return pages_and_chunks_sliced_internal\n",
    "\n",
    "\n",
    "pages_and_chunks_sliced = pages_and_chunks.copy()\n",
    "while any(item[\"chunk_token_count\"] >= max_token_length for item in pages_and_chunks_sliced):\n",
    "    pages_and_chunks_sliced = split_chunks(pages_and_chunks_sliced, max_token_length)\n"
   ]
  },
  {
   "cell_type": "code",
   "execution_count": 14,
   "metadata": {},
   "outputs": [
    {
     "data": {
      "text/html": [
       "<div>\n",
       "<style scoped>\n",
       "    .dataframe tbody tr th:only-of-type {\n",
       "        vertical-align: middle;\n",
       "    }\n",
       "\n",
       "    .dataframe tbody tr th {\n",
       "        vertical-align: top;\n",
       "    }\n",
       "\n",
       "    .dataframe thead th {\n",
       "        text-align: right;\n",
       "    }\n",
       "</style>\n",
       "<table border=\"1\" class=\"dataframe\">\n",
       "  <thead>\n",
       "    <tr style=\"text-align: right;\">\n",
       "      <th></th>\n",
       "      <th>page_number</th>\n",
       "      <th>chunk_char_count</th>\n",
       "      <th>chunk_word_count</th>\n",
       "      <th>chunk_token_count</th>\n",
       "    </tr>\n",
       "  </thead>\n",
       "  <tbody>\n",
       "    <tr>\n",
       "      <th>count</th>\n",
       "      <td>104.00</td>\n",
       "      <td>104.00</td>\n",
       "      <td>104.00</td>\n",
       "      <td>104.00</td>\n",
       "    </tr>\n",
       "    <tr>\n",
       "      <th>mean</th>\n",
       "      <td>9.39</td>\n",
       "      <td>927.51</td>\n",
       "      <td>132.82</td>\n",
       "      <td>231.88</td>\n",
       "    </tr>\n",
       "    <tr>\n",
       "      <th>std</th>\n",
       "      <td>4.61</td>\n",
       "      <td>471.20</td>\n",
       "      <td>67.43</td>\n",
       "      <td>117.80</td>\n",
       "    </tr>\n",
       "    <tr>\n",
       "      <th>min</th>\n",
       "      <td>1.00</td>\n",
       "      <td>53.00</td>\n",
       "      <td>8.00</td>\n",
       "      <td>13.25</td>\n",
       "    </tr>\n",
       "    <tr>\n",
       "      <th>25%</th>\n",
       "      <td>6.00</td>\n",
       "      <td>537.75</td>\n",
       "      <td>77.75</td>\n",
       "      <td>134.44</td>\n",
       "    </tr>\n",
       "    <tr>\n",
       "      <th>50%</th>\n",
       "      <td>9.00</td>\n",
       "      <td>952.50</td>\n",
       "      <td>133.00</td>\n",
       "      <td>238.12</td>\n",
       "    </tr>\n",
       "    <tr>\n",
       "      <th>75%</th>\n",
       "      <td>13.00</td>\n",
       "      <td>1253.25</td>\n",
       "      <td>181.50</td>\n",
       "      <td>313.31</td>\n",
       "    </tr>\n",
       "    <tr>\n",
       "      <th>max</th>\n",
       "      <td>17.00</td>\n",
       "      <td>1913.00</td>\n",
       "      <td>273.00</td>\n",
       "      <td>478.25</td>\n",
       "    </tr>\n",
       "  </tbody>\n",
       "</table>\n",
       "</div>"
      ],
      "text/plain": [
       "       page_number  chunk_char_count  chunk_word_count  chunk_token_count\n",
       "count       104.00            104.00            104.00             104.00\n",
       "mean          9.39            927.51            132.82             231.88\n",
       "std           4.61            471.20             67.43             117.80\n",
       "min           1.00             53.00              8.00              13.25\n",
       "25%           6.00            537.75             77.75             134.44\n",
       "50%           9.00            952.50            133.00             238.12\n",
       "75%          13.00           1253.25            181.50             313.31\n",
       "max          17.00           1913.00            273.00             478.25"
      ]
     },
     "execution_count": 14,
     "metadata": {},
     "output_type": "execute_result"
    }
   ],
   "source": [
    "df = pd.DataFrame(pages_and_chunks_sliced)\n",
    "df.describe().round(2)"
   ]
  },
  {
   "cell_type": "code",
   "execution_count": 15,
   "metadata": {},
   "outputs": [],
   "source": [
    "for row in df[df[\"chunk_token_count\"] >= max_token_length].iterrows():\n",
    "    print(f'Chunk token count: {row[1][\"chunk_token_count\"]} | Text: {row[1][\"sentence_chunk\"]}')"
   ]
  },
  {
   "cell_type": "code",
   "execution_count": 31,
   "metadata": {},
   "outputs": [],
   "source": [
    "from typing import List\n",
    "from sentence_transformers import SentenceTransformer\n",
    "from langchain.embeddings.base import Embeddings\n",
    "\n",
    "embedding_model = SentenceTransformer('intfloat/multilingual-e5-large')\n",
    "\n",
    "class CustomEmbeddings(Embeddings):\n",
    "    def __init__(self, **kwargs):\n",
    "        super().__init__(**kwargs)\n",
    "\n",
    "    def embed_documents(self, texts: List[str]) -> List[List[float]]:\n",
    "        prefix = \"passage: \"\n",
    "        return [embedding_model.encode(prefix + text, batch_size=32,) for text in texts]\n",
    "\n",
    "    def embed_query(self, text: str) -> List[float]:\n",
    "        prefix = \"query: \"\n",
    "        return embedding_model.encode(prefix + text)\n"
   ]
  },
  {
   "cell_type": "code",
   "execution_count": 33,
   "metadata": {},
   "outputs": [],
   "source": [
    "from langchain.vectorstores import Chroma\n",
    "from langchain.schema import Document\n",
    "\n",
    "# Create a list of Documents with metadata\n",
    "documents = [\n",
    "    Document(\n",
    "        page_content=row[\"sentence_chunk\"],\n",
    "        metadata={\n",
    "            \"page_number\": row[\"page_number\"],\n",
    "            \"chunk_char_count\": row[\"chunk_char_count\"],\n",
    "            \"chunk_word_count\": row[\"chunk_word_count\"],\n",
    "            \"chunk_token_count\": row[\"chunk_token_count\"]\n",
    "        }\n",
    "    )\n",
    "    for _, row in df.iterrows()\n",
    "]\n",
    "\n",
    "vectorstore = Chroma.from_documents(documents, CustomEmbeddings())"
   ]
  },
  {
   "cell_type": "code",
   "execution_count": 36,
   "metadata": {},
   "outputs": [
    {
     "data": {
      "text/plain": [
       "{'input': 'Ho il profilo semplice. Quali sono le commissioni di trading su EXM?',\n",
       " 'context': [Document(metadata={'chunk_char_count': 366, 'chunk_token_count': 91.5, 'chunk_word_count': 58, 'page_number': 16}, page_content='ALL1 0524€ INFORMAZIONI SUGLI ONERI E SUI COSTI Di seguito sono riportate le commissioni e le condizioni economiche in vigore al 2 maggio 2024. Per successive modifiche si rinvia al sito www.directa.it. COMMISSIONI DI TRADING SUI DIVERSI MERCATI EXM (ex MTA), EGM, MIV, ETFplus, GEM Profili alternativi: •!Semplice: 5€ per ordine eseguito •!Dinamica*: da 8 a 1,5€ •!'),\n",
       "  Document(metadata={'chunk_char_count': 1297, 'chunk_token_count': 324.25, 'chunk_word_count': 183, 'page_number': 11}, page_content=\"SEZIONE D INFORMAZIONI SUGLI ONERI E SUI COSTI RENDICONTAZIONE EX-ANTE ED EX-POST Directa, in ottemperanza alle nuove disposizioni introdotte con la MiFID II, fornisce un’informativa ex-ante sui costi applicati ai servizi di trading sui principali mercati/strumenti finanziari e ne evidenzia l’impatto medio sul rendimento dell’operazione. In sede di rendicontazione annuale, e questa volta in forma personalizzata per ciascun cliente, Directa fornisce anche la rendicontazione ex-post con tutti i costi ed oneri relativi ai servizi di investimento prestati, comprensivi anche di eventuali incentivi pagati o ricevuti da terzi in relazione alla prestazione fornita al cliente. Tale informativa presenta in forma aggregata (ma è disponibile anche il dettaglio alle singole voci) tutti i costi applicati da Directa, sia in termini monetari sia in termini percentuali, ponendoli in relazione alla giacenza media sul conto per poterne comprendere l’impatto effettivo sul rendimento conseguito. COMMISSIONI DI TRADING SUI DIVERSI MERCATI Directa propone tre diversi tipi di commissione: semplice, variabile, dinamica. La commissione semplice, prevista su tutti i mercati sui quali opera Directa, è conveniente quando si immettono ordini di grande entità, ma in numero limitato nell'arco della giornata.\")],\n",
       " 'answer': 'Le commissioni per il profilo semplice su EXM (ex MTA) sono di 5€ per ordine eseguito.'}"
      ]
     },
     "execution_count": 36,
     "metadata": {},
     "output_type": "execute_result"
    }
   ],
   "source": [
    "from langchain.chains import create_retrieval_chain\n",
    "from langchain.chains.combine_documents import create_stuff_documents_chain\n",
    "from langchain_core.prompts import ChatPromptTemplate\n",
    "from langchain_ollama import ChatOllama\n",
    "\n",
    "model = ChatOllama(\n",
    "  model=\"mistral-nemo\"\n",
    ")\n",
    "\n",
    "system_prompt = (\n",
    "    \"You are an assistant for question-answering tasks. \"\n",
    "    \"Use the following pieces of retrieved context to answer \"\n",
    "    \"the question. If you don't know the answer, say that you \"\n",
    "    \"don't know. Use three sentences maximum and keep the \"\n",
    "    \"answer concise.\"\n",
    "    \"\\n\\n\"\n",
    "    \"{context}\"\n",
    ")\n",
    "\n",
    "prompt = ChatPromptTemplate.from_messages(\n",
    "    [\n",
    "        (\"system\", system_prompt),\n",
    "        (\"human\", \"{input}\"),\n",
    "    ]\n",
    ")\n",
    "\n",
    "retriever = vectorstore.as_retriever(search_kwargs={ \"k\": 2})\n",
    "\n",
    "\n",
    "question_answer_chain = create_stuff_documents_chain(model, prompt)\n",
    "rag_chain = create_retrieval_chain(retriever, question_answer_chain)\n",
    "\n",
    "results = rag_chain.invoke({\"input\": \"Ho il profilo semplice. Quali sono le commissioni di trading su EXM?\"})\n",
    "\n",
    "results"
   ]
  },
  {
   "cell_type": "code",
   "execution_count": 38,
   "metadata": {},
   "outputs": [
    {
     "name": "stdout",
     "output_type": "stream",
     "text": [
      "{'chunk_char_count': 366, 'chunk_token_count': 91.5, 'chunk_word_count': 58, 'page_number': 16}\n"
     ]
    }
   ],
   "source": [
    "print(results[\"context\"][0].metadata)"
   ]
  },
  {
   "cell_type": "code",
   "execution_count": 41,
   "metadata": {},
   "outputs": [
    {
     "data": {
      "text/plain": [
       "{'input': 'Quanto costano le operazioni fuori mercato?',\n",
       " 'context': [Document(metadata={'chunk_char_count': 366, 'chunk_token_count': 91.5, 'chunk_word_count': 58, 'page_number': 16}, page_content='ALL1 0524€ INFORMAZIONI SUGLI ONERI E SUI COSTI Di seguito sono riportate le commissioni e le condizioni economiche in vigore al 2 maggio 2024. Per successive modifiche si rinvia al sito www.directa.it. COMMISSIONI DI TRADING SUI DIVERSI MERCATI EXM (ex MTA), EGM, MIV, ETFplus, GEM Profili alternativi: •!Semplice: 5€ per ordine eseguito •!Dinamica*: da 8 a 1,5€ •!'),\n",
       "  Document(metadata={'chunk_char_count': 1516, 'chunk_token_count': 379.0, 'chunk_word_count': 237, 'page_number': 16}, page_content='Variabile: 1,9 per mille per ordine eseguito, con un massimo di 18€ e un minimo di 1,5€ (il minimo è di 5€ per il mercato GEM) per ordini fino a 500.000€ ATFund •!Unico profilo disponibile: 1,9 per mille per ordine eseguito, con un massimo di 200€ e un minimo di 5€ per ordini fino a 500.000€ SEDEX e EuroTLX certificati depositario Montetitoli Profili alternativi: •!Semplice: 6€ per ordine eseguito •!Dinamica*: da 9 a 2,5€ •!Variabile: 1,9 per mille per ordine eseguito, con massimo di 18€ e minimo di 2€ per ordini fino a 500.000€ depositario Clearstream •!Unico profilo disponibile: 7€ per ordine eseguito MOT Profili alternativi: •!Semplice: 5€ per ordine eseguito •!Dinamica*: da 8 a 1,5€ EuroTLX obbligazioni: depositario Montetitoli: Profili alternativi: •!Semplice: 5€ per ordine eseguito •!Dinamica*: da 8 a 1,5€ depositario Clearstream •!Unico profilo disponibile: 8€ per ordine eseguito EXM (ex MTA), EGM, MIV, ETFplus, FONDI, SEDEX, MOT e EuroTLX diretto e indiretto, commissioni doppie per ordini > 500.000€ IDEM EUREX mini FTSE MIB, Euro Bund, Euro Stoxx50, EuroSchatz, EuroBobl, EuroBuxl, EuroOATF e MiniDAX Profili alternativi: •!Semplice: 4€ a contratto •!Dinamica*: da 8 a 1,5€ a contratto FTSE MIB e FDAX, Long Btp, ShortBtp, FTSE MIB Div Profili alternativi: •!Semplice: 6€ a contratto •!Dinamica*: da 9 a 2,5€ a contratto micro FTSE MIB •!Unico profilo disponibile: 2€ a contratto OPZIONI •!Unico profilo disponibile: 2,5€ a contratto LMAX Exchange FOREX, Cross valutari, CFD su Commodities •!')],\n",
       " 'answer': 'Le commissioni per le operazioni fuori mercato sono del 1,9% per mille con un massimo di 200€ e un minimo di 5€.'}"
      ]
     },
     "execution_count": 41,
     "metadata": {},
     "output_type": "execute_result"
    }
   ],
   "source": [
    "rag_chain.invoke({\"input\": \"Quanto costano le operazioni fuori mercato?\"})"
   ]
  }
 ],
 "metadata": {
  "kernelspec": {
   "display_name": "base",
   "language": "python",
   "name": "python3"
  },
  "language_info": {
   "codemirror_mode": {
    "name": "ipython",
    "version": 3
   },
   "file_extension": ".py",
   "mimetype": "text/x-python",
   "name": "python",
   "nbconvert_exporter": "python",
   "pygments_lexer": "ipython3",
   "version": "3.12.7"
  }
 },
 "nbformat": 4,
 "nbformat_minor": 2
}
