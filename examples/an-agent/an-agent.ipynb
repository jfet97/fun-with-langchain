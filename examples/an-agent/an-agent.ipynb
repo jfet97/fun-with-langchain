{
 "cells": [
  {
   "cell_type": "code",
   "execution_count": null,
   "metadata": {},
   "outputs": [],
   "source": [
    "import getpass\n",
    "import os\n",
    "\n",
    "os.environ[\"LANGCHAIN_TRACING_V2\"] = \"true\"\n",
    "\n",
    "os.environ[\"OPENAI_API_KEY\"] = getpass.getpass(\"Enter your OpenAI API key: \")\n",
    "os.environ[\"LANGCHAIN_API_KEY\"] = getpass.getpass(\"Enter your Lang API key: \")\n",
    "os.environ[\"TAVILY_API_KEY\"] = getpass.getpass(\"Enter your Tavily API key: \")"
   ]
  },
  {
   "cell_type": "markdown",
   "metadata": {},
   "source": [
    "Agents are systems that use LLMs as reasoning engines to determine which actions to take and the inputs necessary to perform the action.\n",
    "\n",
    "After executing actions, the results can be fed back into the LLM to determine whether more actions are needed, or whether it is okay to finish."
   ]
  },
  {
   "cell_type": "code",
   "execution_count": 27,
   "metadata": {},
   "outputs": [],
   "source": [
    "# Import relevant functionality\n",
    "from langchain_community.tools.tavily_search import TavilySearchResults\n",
    "\n",
    "# Create the agent\n",
    "search = TavilySearchResults(max_results=2)\n",
    "\n",
    "# print(search.invoke(\"What's a monad\"))\n",
    "\n",
    "# list of tools to use later\n",
    "tools = [search]"
   ]
  },
  {
   "cell_type": "code",
   "execution_count": 28,
   "metadata": {},
   "outputs": [],
   "source": [
    "from langchain_openai import ChatOpenAI\n",
    "\n",
    "model = ChatOpenAI(model=\"gpt-3.5-turbo-0125\")"
   ]
  },
  {
   "cell_type": "code",
   "execution_count": 29,
   "metadata": {},
   "outputs": [
    {
     "name": "stdout",
     "output_type": "stream",
     "text": [
      "ContentString: Hello! How can I assist you today?\n",
      "ToolCalls: []\n",
      "ContentString: \n",
      "ToolCalls: [{'name': 'tavily_search_results_json', 'args': {'query': 'weather in Carrara MS'}, 'id': 'call_eZzq8lACLQ2zGURbHUKiBfWh', 'type': 'tool_call'}]\n"
     ]
    }
   ],
   "source": [
    "# we give the model knowledge of the tools\n",
    "model_with_tools = model.bind_tools(tools)\n",
    "\n",
    "from langchain_core.messages import HumanMessage\n",
    "\n",
    "# won't ue the tools here, there is no need\n",
    "response = model_with_tools.invoke([HumanMessage(content=\"Hi!\")])\n",
    "print(f\"ContentString: {response.content}\")\n",
    "print(f\"ToolCalls: {response.tool_calls}\")\n",
    "\n",
    "# will use the tools here (more precisely call! It wants us to call the Tavily Search tool.\n",
    "# This isn't calling that tool yet - it's just telling us to. In order to actually call it, we'll want to create our agent.\n",
    "response = model_with_tools.invoke([HumanMessage(content=\"What's the weather in Carrara (MS)?\")])\n",
    "\n",
    "print(f\"ContentString: {response.content}\")\n",
    "print(f\"ToolCalls: {response.tool_calls}\")"
   ]
  },
  {
   "cell_type": "code",
   "execution_count": 30,
   "metadata": {},
   "outputs": [
    {
     "name": "stdout",
     "output_type": "stream",
     "text": [
      "[HumanMessage(content='Hi there', additional_kwargs={}, response_metadata={}, id='8b22dc8d-8aad-44fe-8bdf-b0a0aa276a14'), AIMessage(content='Hello! How can I assist you today?', additional_kwargs={'refusal': None}, response_metadata={'token_usage': {'completion_tokens': 10, 'prompt_tokens': 83, 'total_tokens': 93, 'completion_tokens_details': {'accepted_prediction_tokens': 0, 'audio_tokens': 0, 'reasoning_tokens': 0, 'rejected_prediction_tokens': 0}, 'prompt_tokens_details': {'audio_tokens': 0, 'cached_tokens': 0}}, 'model_name': 'gpt-3.5-turbo-0125', 'system_fingerprint': None, 'finish_reason': 'stop', 'logprobs': None}, id='run-d22ea7c7-7165-4a81-a1a2-fd0a5474c2a6-0', usage_metadata={'input_tokens': 83, 'output_tokens': 10, 'total_tokens': 93, 'input_token_details': {'audio': 0, 'cache_read': 0}, 'output_token_details': {'audio': 0, 'reasoning': 0}})]\n",
      "{'agent': {'messages': [AIMessage(content=\"Hello Bob! It's nice to meet you. Pisa, Italy is a beautiful city known for its iconic leaning tower. Is there anything specific you would like to know or discuss about Pisa or Italy in general?\", additional_kwargs={'refusal': None}, response_metadata={'token_usage': {'completion_tokens': 45, 'prompt_tokens': 112, 'total_tokens': 157, 'completion_tokens_details': {'accepted_prediction_tokens': 0, 'audio_tokens': 0, 'reasoning_tokens': 0, 'rejected_prediction_tokens': 0}, 'prompt_tokens_details': {'audio_tokens': 0, 'cached_tokens': 0}}, 'model_name': 'gpt-3.5-turbo-0125', 'system_fingerprint': None, 'finish_reason': 'stop', 'logprobs': None}, id='run-be85551c-8598-4fd3-a50e-6a4167db02cc-0', usage_metadata={'input_tokens': 112, 'output_tokens': 45, 'total_tokens': 157, 'input_token_details': {'audio': 0, 'cache_read': 0}, 'output_token_details': {'audio': 0, 'reasoning': 0}})]}}\n",
      "----\n",
      "{'agent': {'messages': [AIMessage(content='', additional_kwargs={'tool_calls': [{'id': 'call_ZDozd7iRFPYJYS56kYsyjx2g', 'function': {'arguments': '{\"query\": \"weather in Pisa, Italy\"}', 'name': 'tavily_search_results_json'}, 'type': 'function'}, {'id': 'call_Iy8j1XBLmUjdAXehgQFG1gf6', 'function': {'arguments': '{\"query\": \"temperature in Pisa, Italy\"}', 'name': 'tavily_search_results_json'}, 'type': 'function'}], 'refusal': None}, response_metadata={'token_usage': {'completion_tokens': 61, 'prompt_tokens': 177, 'total_tokens': 238, 'completion_tokens_details': {'accepted_prediction_tokens': 0, 'audio_tokens': 0, 'reasoning_tokens': 0, 'rejected_prediction_tokens': 0}, 'prompt_tokens_details': {'audio_tokens': 0, 'cached_tokens': 0}}, 'model_name': 'gpt-3.5-turbo-0125', 'system_fingerprint': None, 'finish_reason': 'tool_calls', 'logprobs': None}, id='run-4e38230d-ce89-42ed-b252-bc6073fca622-0', tool_calls=[{'name': 'tavily_search_results_json', 'args': {'query': 'weather in Pisa, Italy'}, 'id': 'call_ZDozd7iRFPYJYS56kYsyjx2g', 'type': 'tool_call'}, {'name': 'tavily_search_results_json', 'args': {'query': 'temperature in Pisa, Italy'}, 'id': 'call_Iy8j1XBLmUjdAXehgQFG1gf6', 'type': 'tool_call'}], usage_metadata={'input_tokens': 177, 'output_tokens': 61, 'total_tokens': 238, 'input_token_details': {'audio': 0, 'cache_read': 0}, 'output_token_details': {'audio': 0, 'reasoning': 0}})]}}\n",
      "----\n",
      "{'tools': {'messages': [ToolMessage(content='[{\"url\": \"https://www.weatherapi.com/\", \"content\": \"{\\'location\\': {\\'name\\': \\'Pisa\\', \\'region\\': \\'Toscana\\', \\'country\\': \\'Italy\\', \\'lat\\': 43.7167, \\'lon\\': 10.3833, \\'tz_id\\': \\'Europe/Rome\\', \\'localtime_epoch\\': 1731085798, \\'localtime\\': \\'2024-11-08 18:09\\'}, \\'current\\': {\\'last_updated_epoch\\': 1731085200, \\'last_updated\\': \\'2024-11-08 18:00\\', \\'temp_c\\': 16.4, \\'temp_f\\': 61.5, \\'is_day\\': 0, \\'condition\\': {\\'text\\': \\'Partly cloudy\\', \\'icon\\': \\'//cdn.weatherapi.com/weather/64x64/night/116.png\\', \\'code\\': 1003}, \\'wind_mph\\': 6.7, \\'wind_kph\\': 10.8, \\'wind_degree\\': 71, \\'wind_dir\\': \\'ENE\\', \\'pressure_mb\\': 1025.0, \\'pressure_in\\': 30.27, \\'precip_mm\\': 0.0, \\'precip_in\\': 0.0, \\'humidity\\': 72, \\'cloud\\': 50, \\'feelslike_c\\': 16.4, \\'feelslike_f\\': 61.5, \\'windchill_c\\': 14.5, \\'windchill_f\\': 58.0, \\'heatindex_c\\': 15.0, \\'heatindex_f\\': 58.9, \\'dewpoint_c\\': 9.6, \\'dewpoint_f\\': 49.3, \\'vis_km\\': 10.0, \\'vis_miles\\': 6.0, \\'uv\\': 0.0, \\'gust_mph\\': 12.9, \\'gust_kph\\': 20.8}}\"}, {\"url\": \"https://www.timeanddate.com/weather/@3170647/ext\", \"content\": \"2 Week Extended Forecast in Pisa, Italy. Scroll right to see more Conditions Comfort Precipitation Sun; Day Temperature Weather Feels Like Wind Humidity Chance Amount UV Sunrise Sunset; Wed Oct 30: 72 / 56 °F: Sunny. 74 °F: 2 mph: ↑: 69%: 0%-3 (Moderate) 6:52 am: 5:11 pm: Thu Oct 31: ... 2024 4:24:01 am Pisa time - Weather by CustomWeather\"}]', name='tavily_search_results_json', id='98b97b14-6a86-4eea-bf79-c31e2e8d8d3b', tool_call_id='call_ZDozd7iRFPYJYS56kYsyjx2g', artifact={'query': 'weather in Pisa, Italy', 'follow_up_questions': None, 'answer': None, 'images': [], 'results': [{'title': 'Weather in Pisa, Italy', 'url': 'https://www.weatherapi.com/', 'content': \"{'location': {'name': 'Pisa', 'region': 'Toscana', 'country': 'Italy', 'lat': 43.7167, 'lon': 10.3833, 'tz_id': 'Europe/Rome', 'localtime_epoch': 1731085798, 'localtime': '2024-11-08 18:09'}, 'current': {'last_updated_epoch': 1731085200, 'last_updated': '2024-11-08 18:00', 'temp_c': 16.4, 'temp_f': 61.5, 'is_day': 0, 'condition': {'text': 'Partly cloudy', 'icon': '//cdn.weatherapi.com/weather/64x64/night/116.png', 'code': 1003}, 'wind_mph': 6.7, 'wind_kph': 10.8, 'wind_degree': 71, 'wind_dir': 'ENE', 'pressure_mb': 1025.0, 'pressure_in': 30.27, 'precip_mm': 0.0, 'precip_in': 0.0, 'humidity': 72, 'cloud': 50, 'feelslike_c': 16.4, 'feelslike_f': 61.5, 'windchill_c': 14.5, 'windchill_f': 58.0, 'heatindex_c': 15.0, 'heatindex_f': 58.9, 'dewpoint_c': 9.6, 'dewpoint_f': 49.3, 'vis_km': 10.0, 'vis_miles': 6.0, 'uv': 0.0, 'gust_mph': 12.9, 'gust_kph': 20.8}}\", 'score': 0.9999444, 'raw_content': None}, {'title': 'Pisa, Italy 14 day weather forecast - timeanddate.com', 'url': 'https://www.timeanddate.com/weather/@3170647/ext', 'content': '2 Week Extended Forecast in Pisa, Italy. Scroll right to see more Conditions Comfort Precipitation Sun; Day Temperature Weather Feels Like Wind Humidity Chance Amount UV Sunrise Sunset; Wed Oct 30: 72 / 56 °F: Sunny. 74 °F: 2 mph: ↑: 69%: 0%-3 (Moderate) 6:52 am: 5:11 pm: Thu Oct 31: ... 2024 4:24:01 am Pisa time - Weather by CustomWeather', 'score': 0.99528164, 'raw_content': None}], 'response_time': 3.35}), ToolMessage(content='[{\"url\": \"https://www.climatestotravel.com/climate/italy/pisa\", \"content\": \"In Pisa, the average temperature of the coldest month (January) is of 7.1 °C (44.9 °F), that of the warmest month (August) is of 24.4 °C (75.8 °F). Pisa - Average temperatures (1991-2020) MonthMin (°C)Max (°C)Mean (°C)Min (°F)Max (°F)Mean (°F)January2.811.57.1375344.9February2.812.57.7375545.8March5.315.510.4416050.7April7.818.413.1466555.6May11.522.617.1537362.7June15.326.921.1608070July17.929.923.9648675August18.530.224.4658675.8September152620.5597968.9October11.721.216.5537061.6November7.81611.9466153.4December3.912.18395446.3Year10.120.315.1550.168.559 On the warmest days of the month, the temperature usually reaches around 16.5 °C (61.5 °F). On the warmest days of the month, the temperature usually reaches around 17 °C (62.5 °F). On the warmest days of the month, the temperature usually reaches around 34.5 °C (94.5 °F). On the warmest days of the month, the temperature usually reaches around 34.5 °C (94.5 °F). On the warmest days of the month, the temperature usually reaches around 17 °C (62 °F).\"}, {\"url\": \"https://www.timeanddate.com/weather/italy/pisa/ext\", \"content\": \"Pisa 14 Day Extended Forecast. Weather Today Weather Hourly 14 Day Forecast Yesterday/Past Weather Climate (Averages) Currently: 46 °F. Clear. (Weather station: Pisa / S. Giusto, Italy). See more current weather.\"}]', name='tavily_search_results_json', id='c502bd3c-8c32-413d-b3d5-6b0530ee12f3', tool_call_id='call_Iy8j1XBLmUjdAXehgQFG1gf6', artifact={'query': 'temperature in Pisa, Italy', 'follow_up_questions': None, 'answer': None, 'images': [], 'results': [{'title': 'Pisa climate: weather by month, temperature, rain - Climates to Travel', 'url': 'https://www.climatestotravel.com/climate/italy/pisa', 'content': 'In Pisa, the average temperature of the coldest month (January) is of 7.1 °C (44.9 °F), that of the warmest month (August) is of 24.4 °C (75.8 °F). Pisa - Average temperatures (1991-2020) MonthMin (°C)Max (°C)Mean (°C)Min (°F)Max (°F)Mean (°F)January2.811.57.1375344.9February2.812.57.7375545.8March5.315.510.4416050.7April7.818.413.1466555.6May11.522.617.1537362.7June15.326.921.1608070July17.929.923.9648675August18.530.224.4658675.8September152620.5597968.9October11.721.216.5537061.6November7.81611.9466153.4December3.912.18395446.3Year10.120.315.1550.168.559 On the warmest days of the month, the temperature usually reaches around 16.5 °C (61.5 °F). On the warmest days of the month, the temperature usually reaches around 17 °C (62.5 °F). On the warmest days of the month, the temperature usually reaches around 34.5 °C (94.5 °F). On the warmest days of the month, the temperature usually reaches around 34.5 °C (94.5 °F). On the warmest days of the month, the temperature usually reaches around 17 °C (62 °F).', 'score': 0.9994429, 'raw_content': None}, {'title': 'Pisa, Italy 14 day weather forecast - timeanddate.com', 'url': 'https://www.timeanddate.com/weather/italy/pisa/ext', 'content': 'Pisa 14 Day Extended Forecast. Weather Today Weather Hourly 14 Day Forecast Yesterday/Past Weather Climate (Averages) Currently: 46 °F. Clear. (Weather station: Pisa / S. Giusto, Italy). See more current weather.', 'score': 0.9983386, 'raw_content': None}], 'response_time': 2.37})]}}\n",
      "----\n",
      "{'agent': {'messages': [AIMessage(content='The current weather in Pisa, Italy is partly cloudy with a temperature of 16.4°C (61.5°F). The humidity is at 72%, and the wind is blowing at 10.8 km/h from the east-northeast direction.\\n\\nOn average, the temperature in Pisa ranges from a minimum of 2.8°C (37°F) in January to a maximum of 30.2°C (86.4°F) in August. The warmest days of the month usually reach around 16.5°C (61.5°F) to 34.5°C (94.5°F) depending on the season.\\n\\nIf you need more detailed information or forecasts, feel free to ask!', additional_kwargs={'refusal': None}, response_metadata={'token_usage': {'completion_tokens': 148, 'prompt_tokens': 1357, 'total_tokens': 1505, 'completion_tokens_details': {'accepted_prediction_tokens': 0, 'audio_tokens': 0, 'reasoning_tokens': 0, 'rejected_prediction_tokens': 0}, 'prompt_tokens_details': {'audio_tokens': 0, 'cached_tokens': 0}}, 'model_name': 'gpt-3.5-turbo-0125', 'system_fingerprint': None, 'finish_reason': 'stop', 'logprobs': None}, id='run-2b034689-b05a-4873-9fb8-9d3557b284ca-0', usage_metadata={'input_tokens': 1357, 'output_tokens': 148, 'total_tokens': 1505, 'input_token_details': {'audio': 0, 'cache_read': 0}, 'output_token_details': {'audio': 0, 'reasoning': 0}})]}}\n",
      "----\n"
     ]
    }
   ],
   "source": [
    "from langchain_core.messages import HumanMessage\n",
    "from langgraph.prebuilt import create_react_agent\n",
    "from langgraph.checkpoint.memory import MemorySaver\n",
    "memory = MemorySaver()\n",
    "\n",
    "# bind_tools will be called under the hood\n",
    "# without checkpointer it will have no memory\n",
    "agent_executor = create_react_agent(model, tools, checkpointer=memory)\n",
    "\n",
    "response = agent_executor.invoke(\n",
    "  {\"messages\": [HumanMessage(content=\"Hi there\")]},\n",
    "  config={\"configurable\": {\"thread_id\": \"abc123\"}}\n",
    ")\n",
    "print(response[\"messages\"])\n",
    "\n",
    "config = {\"configurable\": {\"thread_id\": \"abc123\"}}\n",
    "\n",
    "# stream -> we'll see all the intermediate steps\n",
    "# same config -> same memory\n",
    "for chunk in agent_executor.stream(\n",
    "    {\"messages\": [HumanMessage(content=\"hi im bob! and i live in Pisa, Italy\")]}, config\n",
    "):\n",
    "    print(chunk)\n",
    "    print(\"----\")\n",
    "\n",
    "for chunk in agent_executor.stream(\n",
    "    {\"messages\": [HumanMessage(content=\"whats the weather where I live? what about the temperature?\")]}, config\n",
    "):\n",
    "    print(chunk)\n",
    "    print(\"----\")"
   ]
  }
 ],
 "metadata": {
  "kernelspec": {
   "display_name": "Python 3",
   "language": "python",
   "name": "python3"
  },
  "language_info": {
   "codemirror_mode": {
    "name": "ipython",
    "version": 3
   },
   "file_extension": ".py",
   "mimetype": "text/x-python",
   "name": "python",
   "nbconvert_exporter": "python",
   "pygments_lexer": "ipython3",
   "version": "3.13.0"
  }
 },
 "nbformat": 4,
 "nbformat_minor": 2
}
