{
 "cells": [
  {
   "cell_type": "code",
   "execution_count": 34,
   "metadata": {},
   "outputs": [
    {
     "name": "stdout",
     "output_type": "stream",
     "text": [
      "17\n"
     ]
    }
   ],
   "source": [
    "from langchain_community.document_loaders import PyPDFLoader\n",
    "\n",
    "file_path = \"./example.pdf\"\n",
    "# it sucks a bit, PDFs handling is hard, e.g. it seems we lose even symbols like euro sign\n",
    "# (it seems the pdf file itself sucks)\n",
    "loader = PyPDFLoader(file_path )\n",
    "\n",
    "docs = loader.load()\n",
    "\n",
    "print(len(docs))"
   ]
  },
  {
   "cell_type": "code",
   "execution_count": 35,
   "metadata": {},
   "outputs": [
    {
     "name": "stdout",
     "output_type": "stream",
     "text": [
      "ALL1\n",
      "0524\n",
      "!\n",
      "!  \n",
      "INFORMAZIONI SUGLI ONERI E SUI COSTI  \n",
      "!\n",
      "Di seguito sono riportate le commissioni e le condizioni \n",
      "economiche in vigore al  2 maggio 2024. Per successive \n",
      "modifiche si rinvia al sito www.directa.it. \n",
      " \n",
      "COMMISSIONI DI TRADING SUI DIVERSI MERCATI  \n",
      " \n",
      "EXM (ex MTA), EGM, MIV, ETFplus, GEM  \n",
      "Profili alternativi: \n",
      "•!Semplice: 5! per ordine eseguito \n",
      "•!Dinamica*: da 8 a 1,5!  \n",
      "•!Variabile: 1,9 per mille per ordine eseguito, con un  \n",
      "massimo di 18! e un minimo di 1,5! (il minimo è di 5! per il \n",
      "mercato GEM) per ordini fino a 500.000!   \n",
      " \n",
      "ATFund  \n",
      "•!Unico profilo disponibile : 1,9 per mille per ordine esegu ito, \n",
      "con un massimo di 200! e un minimo di 5! per ordini fino a \n",
      "500.000!   \n",
      "  \n",
      "SEDEX e EuroTLX certificati \n",
      "depositario Montetitoli \n",
      "Profili alternativi: \n",
      "•!Semplice: 6! per ordine eseguito \n",
      "•!Dinamica*: da 9 a 2,5!  \n",
      "•!Variabile: 1,9 per mille per ordine eseguito, con \n",
      "massimo di 18! e minimo di 2! per ordini fino a 500.000!  \n",
      "depositario Clearstream  \n",
      "•!Unico profilo disponibile: 7! per ordine eseguito \n",
      " \n",
      "MOT  \n",
      "Profili alternativi: \n",
      "•!Semplice: 5! per ordine eseguito  \n",
      "•!Dinamica*: da 8 a 1,5!  \n",
      " \n",
      "EuroTLX obbligazioni: \n",
      "depositario Montetitoli: \n",
      "Profili alternativi: \n",
      "•!Semplice: 5! per ordine eseguito  \n",
      "•!Dinamica*: da 8 a 1,5!  \n",
      "depositario Clearstream  \n",
      "•!Unico profilo disponibile: 8! per ordine eseguito \n",
      "  \n",
      "EXM (ex MTA) , EGM, MIV , ETFplus, FONDI, SEDEX, MOT e \n",
      "EuroTLX diretto e in diretto, commissioni doppie per ordini > \n",
      "500.000! \n",
      " \n",
      "IDEM - EUREX  \n",
      "mini FTSE MIB, Euro B und, Euro Stoxx50, Euro Schatz, \n",
      "EuroBobl, EuroBuxl, EuroOATF e MiniDAX \n",
      "Profili alternativi: \n",
      "•!Semplice: 4! a contratto  \n",
      "•!Dinamica*: da 8 a 1,5! a contratto \n",
      "FTSE MIB e FDAX, Long Btp, ShortBtp, FTSE MIB Div \n",
      "Profili alternativi: \n",
      "•!Semplice: 6! a contratto  \n",
      "•!Dinamica*: da 9 a 2,5! a contratto \n",
      "micro FTSE MIB \n",
      "•!Unico profilo disponibile: 2! a contratto  \n",
      "OPZIONI \n",
      "•!Unico profilo disponibile: 2,5! a contratto \n",
      " \n",
      "LMAX Exchange \n",
      "FOREX, Cross valutari, CFD su Commodities \n",
      "•!Unico profilo disponibile: 0,003% del controvalore  \n",
      "con minimo 1,5! o 2!  \n",
      " \n",
      "CFD su Indici \n",
      "•!Unico profilo disponibile: 1! a contratto  \n",
      "CFD su CRIPTOVALUTE \n",
      "•!Unico profilo disponibile: 0,2% del controvalore con min. 2! \n",
      " \n",
      "Spectrum markets \n",
      "•!Unico profilo disponibile: 5! per ordine eseguito  \n",
      " \n",
      "CME \n",
      "E-mini NQ100, E- mini S &P500, Light Sweet Crude Oil, \n",
      "E-mini Crude Oil, Natural Gas, Mini Natural Gas, Min i \n",
      "Dow Jones, Silver 5000, Platinum, Copper, T-Bond30Y, \n",
      "T-Note10Y, T-Note5Y, T-Note2Y, E-mini Russell 2000 \n",
      "Profili alternativi: \n",
      "•!Semplice: 6$ a contratto  \n",
      "•!Dinamica*: da 9 a 2,5$ a contratto  \n",
      "Euro FX, E- mini Euro FX, Britis h Pound, Japanese Yen, \n",
      "Swiss Franc, Australia n dollar, Canadian dol lar, New \n",
      "Zealand dollar, Mexican Peso, Micro Silver e Gold 100  \n",
      "Profili alternativi: \n",
      "•!Semplice: 3$ a contratto  \n",
      "•!Dinamica*: da 9 a 2,5$ a contratto  \n",
      "Micro Mini S&P500, Micro Mini Nasdaq 100, Mi cro Mini \n",
      "Dow Jones, Micro Mini Russell 2000 , Micro Crude Oi l, \n",
      "Micro Copper , Micro Natural Gas , Micro Ultra U.S. \n",
      "Treasury Bond, Micro Ultra 10-Year U.S. Treasury Note \n",
      "•!Unico profilo disponibile: 3$ a contratto  \n",
      "Micro Gold \n",
      "•!Unico profilo disponibile: 2$ a contratto  \n",
      "E-micro FX \n",
      "•!Unico profilo disponibile: 1,5$ a contratto  \n",
      "CBOT - Wheat, Corn, Soybeans , Soybeans oil, Soybeans \n",
      "meal \n",
      "•!Unico profilo disponibile: 8$ a contratto  \n",
      "CBOT- Mini Corn, Mini Soybeans  \n",
      "•!Unico profilo disponibile: 3$ a contratto  \n",
      " \n",
      "XETRA  \n",
      "•!Unico profilo disponibile: 0,025% con minimo 9,5!  \n",
      " \n",
      "SIX Swiss Exchange \n",
      "•!Unico profilo disponibile: 0,03% con minimo 20CHF \n",
      " \n",
      "Cboe Europe (ex Bats Europe) \n",
      "•!Unico profilo disponibile: 0,025% con minimo 9,5! \n",
      " \n",
      "MERCATI USA \n",
      "NYSE, NASDAQ, AMEX \n",
      "•!Via Market Maker e ECN - Unico profilo disponibile: 9$  \n",
      "OTC \n",
      "•!Unico profilo disponibile: 15$ \n",
      " \n",
      "BOND DESK - Trading Specialist \n",
      "Servizio per negoziare e partecipare al mercato primario \n",
      "dei Bond OTC in Euro (solo per Clienti Professional) \n",
      "•!0,1% del controvalore dell’ordine con minimo 20! \n",
      " \n",
      "TITOLI SOSPESI DALLE NEGOZIAZIONI: 25! a eseguito \n",
      " \n",
      "*CONTEGGIO Dinamica: Optando per quest a alternativa, la \n",
      "commissione nell'arco della stessa giornata scala di un euro dal 1° al 6° \n",
      "eseguito (partendo da 8 o 9 euro per arrivare rispettivamente a 3 o a 4, a \n",
      "seconda del mercato o d ello strumento), resta ferma dal 6° fino  al 25° (3 o \n",
      "4), scala ancora di un euro dal 26° al 50° (2 o 3), e scende infine al minimo \n",
      "(1,5 o 2,5 euro rispettivamente)  dal 51° fino al termine della giornata \n",
      "borsistica. N.B.: eventuale maggiorazione di 1 !/$ per  certi titoli su MOT, \n",
      "FTSE/MIB, FDAX, CME . Esempio: acquisto 100 Generali ---> 8 ! (primo \n",
      "eseguito del giorno), v endo 100 Generali ---> 7 ! (secondo eseguito de l \n",
      "giorno) (6–5–4-ecc … ); dopo il 5° eseguito del giorno p ago 3!, dopo il 25° \n",
      "2! e dopo il 50° 1,5! . I contratti a commissione Semplice non entrano nel \n",
      "conteggio delle commissioni dinamiche. \n",
      "1/2\n",
      "\n",
      "{'source': './example.pdf', 'page': 0}\n"
     ]
    }
   ],
   "source": [
    "print(docs[15].page_content)\n",
    "print()\n",
    "print(docs[0].metadata)"
   ]
  },
  {
   "cell_type": "markdown",
   "metadata": {},
   "source": [
    "So what just happened?\n",
    "\n",
    "1. The loader reads the PDF at the specified path into memory.\n",
    "1. It then extracts text data using the pypdf package.\n",
    "1. Finally, it creates a LangChain Document for each page of the PDF with the page's content and some metadata about where in the document the text came from"
   ]
  },
  {
   "cell_type": "markdown",
   "metadata": {},
   "source": [
    "Using a text splitter, you'll split your loaded documents into smaller documents that can more easily fit into an LLM's context window, then load them into a vector store. You can then create a retriever from the vector store for use in our RAG chain."
   ]
  },
  {
   "cell_type": "code",
   "execution_count": 36,
   "metadata": {},
   "outputs": [],
   "source": [
    "from langchain_ollama import ChatOllama\n",
    "\n",
    "# it's dumb\n",
    "# model = ChatOllama(\n",
    "#     model=\"llama3.2\",\n",
    "# )\n",
    "\n",
    "# it's slow, but smarter\n",
    "# model = ChatOllama(\n",
    "#   model=\"llama3.2-vision\"\n",
    "# )\n",
    "\n",
    "model = ChatOllama(\n",
    "  model=\"mistral-nemo\"\n",
    ")"
   ]
  },
  {
   "cell_type": "code",
   "execution_count": null,
   "metadata": {},
   "outputs": [],
   "source": [
    "from langchain_core.vectorstores import InMemoryVectorStore\n",
    "from langchain_text_splitters import RecursiveCharacterTextSplitter\n",
    "from langchain_ollama import OllamaEmbeddings\n",
    "\n",
    "# slower but embeddings seem to be better\n",
    "local_embeddings = OllamaEmbeddings(model=\"mxbai-embed-large\")\n",
    "\n",
    "text_splitter = RecursiveCharacterTextSplitter(chunk_size=600, chunk_overlap=100)\n",
    "splits = text_splitter.split_documents(docs)\n",
    "vectorstore = InMemoryVectorStore.from_documents(\n",
    "    documents=splits, embedding=local_embeddings\n",
    ")\n",
    "\n",
    "retriever = vectorstore.as_retriever()"
   ]
  },
  {
   "cell_type": "markdown",
   "metadata": {},
   "source": [
    "The final RAG chain:"
   ]
  },
  {
   "cell_type": "code",
   "execution_count": 42,
   "metadata": {},
   "outputs": [
    {
     "data": {
      "text/plain": [
       "{'input': 'Col profilo semplice, a quanto ammontano le commissioni di trading su EXM?',\n",
       " 'context': [Document(id='47747c83-c8d7-455e-8bd7-3ce722a25e71', metadata={'source': './example.pdf', 'page': 10}, page_content=\"poterne comprendere l’impatto effettivo sul rendimento \\nconseguito.  \\n \\nCOMMISSIONI DI TRADING SUI DIVERSI MERCATI \\nDirecta propone tre diversi tipi d i commissione: sempli-\\nce, variabile, dinamica. La commissione semplice, pre-\\nvista su tutti i mercati sui quali opera D irecta, è \\nconveniente quando si immettono ordini di grande enti-\\ntà, ma in n umero limitato nell'arco della giornata. La \\ncommissione variabile è conveniente per gli ordini di \\nmodesta entità. La commissione dinamica è convenien-\\nte per ordini di discr eto ammontare e molto numerosi.\"),\n",
       "  Document(id='a282f856-4695-4d2e-b1e3-347069af74ea', metadata={'source': './example.pdf', 'page': 15}, page_content='ALL1\\n0524\\n!\\n!  \\nINFORMAZIONI SUGLI ONERI E SUI COSTI  \\n!\\nDi seguito sono riportate le commissioni e le condizioni \\neconomiche in vigore al  2 maggio 2024. Per successive \\nmodifiche si rinvia al sito www.directa.it. \\n \\nCOMMISSIONI DI TRADING SUI DIVERSI MERCATI  \\n \\nEXM (ex MTA), EGM, MIV, ETFplus, GEM  \\nProfili alternativi: \\n•!Semplice: 5! per ordine eseguito \\n•!Dinamica*: da 8 a 1,5!  \\n•!Variabile: 1,9 per mille per ordine eseguito, con un  \\nmassimo di 18! e un minimo di 1,5! (il minimo è di 5! per il \\nmercato GEM) per ordini fino a 500.000!   \\n \\nATFund'),\n",
       "  Document(id='5d3f50ca-7123-420d-a511-0ccb9859d31c', metadata={'source': './example.pdf', 'page': 2}, page_content='sione. \\nNel caso in cui il cliente effettui operazioni di compr a-\\nvendita su strumenti finanziari emessi da Banche o altri \\nSoggetti Autorizzati sulle quali, per o gni esecuzione, \\nDirecta riceve una commissione da parte dell’Emittente, \\nsarà cura di Directa informare il Cliente stesso in app o-\\nsita sezione del sito di trading sul controvalore dei \\ncompensi percepiti. Ad ogni cliente verranno inoltre  \\nforniti, dietro sempl ice richiesta, maggiori dettagli i n-\\nformativi.  \\n \\nMODALITÀ DI PAGAMENTO E DI ESECUZIONE \\nI fondi in entrata possono provenire esclusivamente da'),\n",
       "  Document(id='a312fb13-2d63-4728-9ec1-b820edb2929f', metadata={'source': './example.pdf', 'page': 2}, page_content=\"quale un servizio è prestato. \\n \\nINCENTIVI \\nIn conformità a quanto previsto dalla normativa MIFID \\nII, si segnala che per quei Cli enti che apriranno un co n-\\nto con un intermediario convenzi onato, una parte delle \\ncommissioni che gli stessi pag heranno verrà da Directa \\nretrocessa all'intermediario stesso e/o alla società Ce n-\\ntrale Trading S.r.l., per un importo che potrà variare in \\nfunzione di diversi parametri, senza eccedere, in qu a-\\nlunque caso, il  limite massimo del 28% della c ommis-\\nsione. \\nNel caso in cui il cliente effettui operazioni di compr a-\")],\n",
       " 'answer': 'Le commissioni per il profilo semplice su EXM sono pari a 5 € per ordine eseguito.'}"
      ]
     },
     "execution_count": 42,
     "metadata": {},
     "output_type": "execute_result"
    }
   ],
   "source": [
    "from langchain.chains import create_retrieval_chain\n",
    "from langchain.chains.combine_documents import create_stuff_documents_chain\n",
    "from langchain_core.prompts import ChatPromptTemplate\n",
    "\n",
    "system_prompt = (\n",
    "    \"You are an assistant for question-answering tasks. \"\n",
    "    \"Use the following pieces of retrieved context to answer \"\n",
    "    \"the question. If you don't know the answer, say that you \"\n",
    "    \"don't know. Use three sentences maximum and keep the \"\n",
    "    \"answer concise.\"\n",
    "    \"\\n\\n\"\n",
    "    \"{context}\"\n",
    ")\n",
    "\n",
    "prompt = ChatPromptTemplate.from_messages(\n",
    "    [\n",
    "        (\"system\", system_prompt),\n",
    "        (\"human\", \"{input}\"),\n",
    "    ]\n",
    ")\n",
    "\n",
    "\n",
    "question_answer_chain = create_stuff_documents_chain(model, prompt)\n",
    "rag_chain = create_retrieval_chain(retriever, question_answer_chain)\n",
    "\n",
    "results = rag_chain.invoke({\"input\": \"Col profilo semplice, a quanto ammontano le commissioni di trading su EXM?\"})\n",
    "\n",
    "results"
   ]
  },
  {
   "cell_type": "code",
   "execution_count": 44,
   "metadata": {},
   "outputs": [
    {
     "name": "stdout",
     "output_type": "stream",
     "text": [
      "{'source': './example.pdf', 'page': 10}\n"
     ]
    }
   ],
   "source": [
    "print(results[\"context\"][0].metadata)"
   ]
  },
  {
   "cell_type": "code",
   "execution_count": 47,
   "metadata": {},
   "outputs": [
    {
     "data": {
      "text/plain": [
       "{'input': 'Quanto costa una operazione fuori mercato?',\n",
       " 'context': [Document(id='0c7f9227-6539-4af3-9caf-a60d3fa07717', metadata={'source': './example.pdf', 'page': 7}, page_content=\"tare la strategia di trading prescelta.  \\n \\n5) I covered warrant \\nI covered warrant è un titolo che incorpora una opzione \\nper acquistare o vende re un certo b ene in una data fu-\\ntura predeterminata. È generalmente emesso da banche \\no imprese di invest imento e quotato su mercati regola-\\nmentati. Trattandosi di un'opzione, il portatore del tit olo \\nha la facoltà, ma non l'obbligo, di c oncludere l'acquisto \\no la vendita. In relazione alla natura del diritto si distin-\\nguono i covered warrant di ti po call (diritto ad acquista-\\nre) e quelli di tipo put (d iritto a vendere). Il diritto\"),\n",
       "  Document(id='d8f10d23-7b7f-4715-8673-16f36a5c407a', metadata={'source': './example.pdf', 'page': 11}, page_content='rimangono di esclusiva competenza del Cliente.  \\nPer i det tagli sulle logiche e sui criteri utilizzati da Di-\\nrecta per determinare su quali sedi di negoziazione o \\nstrumenti finanziari intervenire, si rimanda all e istru-\\nzioni o perative che D irecta mantiene aggiornate sul \\nproprio Sistema di Trading.'),\n",
       "  Document(id='9cab94d8-8d7f-4d86-a4ce-e1de03ecea49', metadata={'source': './example.pdf', 'page': 6}, page_content=\"vità sottostante. Se l'opzione h a pe r oggetto contratti \\nfutures, l'esercizio della medesima determinerà l'assu n-\\nzione di una posizione in futures e le connesse obblig a-\\nzioni concernenti l'adeguamento dei margini di garanzia. \\nUn investitore che si accingesse a d acquistare un'opzio-\\nne relativ a a un'attività il cui prezzo di mercato fosse \\nmolto distante dal prezzo a cui risulterebbe co nveniente \\nesercitare l'opzione (deep out of the money), deve co n-\\nsiderare che la possibi lità che l'eser cizio dell'opzione d i-\\nventi profittevole è remota. \\n2.2) La vendita di un'opzione\"),\n",
       "  Document(id='03a2104c-1d20-4556-9d3d-54cd51cc37b2', metadata={'source': './example.pdf', 'page': 6}, page_content=\"venti profittevole è remota. \\n2.2) La vendita di un'opzione \\nLa vendita di un'opzione comporta in generale l'assun-\\nzione di un rischio molto più elevato di quello relativo al \\nsuo acquisto. Infatti, anche se il premio ricevuto per \\nl'opzione venduta è fisso, le perdite che possono pr o-\\ndursi in capo a l ve nditore dell'opzione sono potenzia l-\\nmente illimitate. Se il prezzo di mercato dell'attività \\nsottostante si mu ove in modo sfavorevole, il venditore \\ndell'opzione sarà obbligato ad adeguare i margini di ga-\\nranzia al fine di ma ntenere la posizione assunta , anche\")],\n",
       " 'answer': 'Non ho informazioni sul costo delle operazioni fuori mercato.'}"
      ]
     },
     "execution_count": 47,
     "metadata": {},
     "output_type": "execute_result"
    }
   ],
   "source": [
    "rag_chain.invoke({\"input\": \"Quanto costa una operazione fuori mercato?\"})"
   ]
  }
 ],
 "metadata": {
  "kernelspec": {
   "display_name": "Python 3",
   "language": "python",
   "name": "python3"
  },
  "language_info": {
   "codemirror_mode": {
    "name": "ipython",
    "version": 3
   },
   "file_extension": ".py",
   "mimetype": "text/x-python",
   "name": "python",
   "nbconvert_exporter": "python",
   "pygments_lexer": "ipython3",
   "version": "3.13.0"
  }
 },
 "nbformat": 4,
 "nbformat_minor": 2
}
